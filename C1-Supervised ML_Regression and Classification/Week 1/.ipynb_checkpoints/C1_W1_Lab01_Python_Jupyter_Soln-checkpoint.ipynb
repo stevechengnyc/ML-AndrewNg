{
  "cells": [
    {
      "cell_type": "markdown",
      "metadata": {
        "id": "GHF-5oaHpi6c"
      },
      "source": [
        "# Optional Lab:  Brief Introduction to Python and Jupyter Notebooks\n",
        "Welcome to the first optional lab!\n",
        "Optional labs are available to:\n",
        "- provide information - like this notebook\n",
        "- reinforce lecture material with hands-on examples\n",
        "- provide working examples of routines used in the graded labs"
      ],
      "id": "GHF-5oaHpi6c"
    },
    {
      "cell_type": "markdown",
      "metadata": {
        "id": "I6JHdZgVpi6e"
      },
      "source": [
        "## Goals\n",
        "In this lab, you will:\n",
        "- Get a brief introduction to Jupyter notebooks\n",
        "- Take a tour of Jupyter notebooks\n",
        "- Learn the difference between markdown cells and code cells\n",
        "- Practice some basic python\n"
      ],
      "id": "I6JHdZgVpi6e"
    },
    {
      "cell_type": "markdown",
      "metadata": {
        "id": "W-WZuYoEpi6f"
      },
      "source": [
        "The easiest way to become familiar with Jupyter notebooks is to take the tour available above in the Help menu:"
      ],
      "id": "W-WZuYoEpi6f"
    },
    {
      "cell_type": "markdown",
      "metadata": {
        "id": "yyhm6Gvvpi6g"
      },
      "source": [
        "<figure>\n",
        "    <center> <img src=\"https://github.com/stevechengnyc/ML-AndrewNg/blob/main/C1-Supervised%20ML_Regression%20and%20Classification/Week%201/.ipynb_checkpoints/images/C1W1L1_Tour.PNG?raw=1\"  alt='missing' width=\"400\"  ><center/>\n",
        "<figure/>"
      ],
      "id": "yyhm6Gvvpi6g"
    },
    {
      "cell_type": "markdown",
      "metadata": {
        "id": "t8sy-iB8pi6h"
      },
      "source": [
        "Jupyter notebooks have two types of cells that are used in this course. Cells such as this which contain documentation called `Markdown Cells`. The name is derived from the simple formatting language used in the cells. You will not be required to produce markdown cells. Its useful to understand the `cell pulldown` shown in graphic below. Occasionally, a cell will end up in the wrong mode and you may need to restore it to the right state:"
      ],
      "id": "t8sy-iB8pi6h"
    },
    {
      "cell_type": "markdown",
      "metadata": {
        "id": "84rmIiicpi6h"
      },
      "source": [
        "<figure>\n",
        "   <img src=\"https://github.com/stevechengnyc/ML-AndrewNg/blob/main/C1-Supervised%20ML_Regression%20and%20Classification/Week%201/.ipynb_checkpoints/images/C1W1L1_Markdown.PNG?raw=1\"  alt='missing' width=\"400\"  >\n",
        "<figure/>"
      ],
      "id": "84rmIiicpi6h"
    },
    {
      "cell_type": "markdown",
      "metadata": {
        "id": "kcSKfEXtpi6h"
      },
      "source": [
        "The other type of cell is the `code cell` where you will write your code:"
      ],
      "id": "kcSKfEXtpi6h"
    },
    {
      "cell_type": "code",
      "execution_count": 3,
      "metadata": {
        "id": "dvDe1No4pi6h",
        "outputId": "2184a376-491c-4ccb-86e4-4a33fc727a50",
        "colab": {
          "base_uri": "https://localhost:8080/"
        }
      },
      "outputs": [
        {
          "output_type": "stream",
          "name": "stdout",
          "text": [
            "This is  code cell\n"
          ]
        }
      ],
      "source": [
        "#This is  a 'Code' Cell\n",
        "print(\"This is  code cell\")"
      ],
      "id": "dvDe1No4pi6h"
    },
    {
      "cell_type": "markdown",
      "metadata": {
        "id": "HpnYpGnYpi6i"
      },
      "source": [
        "## Python\n",
        "You can write your code in the code cells.\n",
        "To run the code, select the cell and either\n",
        "- hold the shift-key down and hit 'enter' or 'return'\n",
        "- click the 'run' arrow above\n",
        "<figure>\n",
        "    <img src=\"https://github.com/stevechengnyc/ML-AndrewNg/blob/main/C1-Supervised%20ML_Regression%20and%20Classification/Week%201/.ipynb_checkpoints/images/C1W1L1_Run.PNG?raw=1\"  width=\"400\"  >\n",
        "<figure/>\n",
        "\n",
        ""
      ],
      "id": "HpnYpGnYpi6i"
    },
    {
      "cell_type": "markdown",
      "metadata": {
        "id": "BO00zrxlpi6j"
      },
      "source": [
        "### Print statement\n",
        "Print statements will generally use the python f-string style.  \n",
        "Try creating your own print in the following cell.  \n",
        "Try both methods of running the cell."
      ],
      "id": "BO00zrxlpi6j"
    },
    {
      "cell_type": "code",
      "execution_count": 7,
      "metadata": {
        "id": "xGzLfSFXpi6k",
        "outputId": "b1e79526-cd1f-49f9-f7f5-82676b11dfbf",
        "colab": {
          "base_uri": "https://localhost:8080/"
        }
      },
      "outputs": [
        {
          "output_type": "stream",
          "name": "stdout",
          "text": [
            "f strings allow you to embed variables right in the strings!\n",
            "f strings allow you to embed variables right in the strings!\n"
          ]
        }
      ],
      "source": [
        "# print statements\n",
        "variable = \"right in the strings!\"\n",
        "print(f\"f strings allow you to embed variables {variable}\")\n",
        "print(f\"f strings allow you to embed variables {variable}\")"
      ],
      "id": "xGzLfSFXpi6k"
    },
    {
      "cell_type": "markdown",
      "metadata": {
        "id": "L4c0xuxApi6k"
      },
      "source": [
        "# Congratulations!\n",
        "You now know how to find your way around a Jupyter Notebook."
      ],
      "id": "L4c0xuxApi6k"
    },
    {
      "cell_type": "code",
      "execution_count": null,
      "metadata": {
        "id": "4THzuG7Mpi6l"
      },
      "outputs": [],
      "source": [],
      "id": "4THzuG7Mpi6l"
    }
  ],
  "metadata": {
    "kernelspec": {
      "display_name": "Python 3",
      "language": "python",
      "name": "python3"
    },
    "language_info": {
      "codemirror_mode": {
        "name": "ipython",
        "version": 3
      },
      "file_extension": ".py",
      "mimetype": "text/x-python",
      "name": "python",
      "nbconvert_exporter": "python",
      "pygments_lexer": "ipython3",
      "version": "3.8.10"
    },
    "colab": {
      "provenance": []
    }
  },
  "nbformat": 4,
  "nbformat_minor": 5
}