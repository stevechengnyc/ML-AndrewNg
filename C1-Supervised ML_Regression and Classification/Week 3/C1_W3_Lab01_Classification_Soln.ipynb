{
  "cells": [
    {
      "cell_type": "markdown",
      "metadata": {
        "id": "tPc7FEp84Mp3"
      },
      "source": [
        "# Optional Lab: Classification\n",
        "\n",
        "In this lab, you will contrast regression and classification."
      ],
      "id": "tPc7FEp84Mp3"
    },
    {
      "cell_type": "code",
      "execution_count": 1,
      "metadata": {
        "id": "u87_YaWA4Mp5"
      },
      "outputs": [],
      "source": [
        "import numpy as np\n",
        "#%matplotlib widget\n",
        "import matplotlib.pyplot as plt\n",
        "#from lab_utils_common import dlc, plot_data\n",
        "#from plt_one_addpt_onclick import plt_one_addpt_onclick\n",
        "#plt.style.use('./deeplearning.mplstyle')"
      ],
      "id": "u87_YaWA4Mp5"
    },
    {
      "cell_type": "markdown",
      "metadata": {
        "id": "CsTN3alf4Mp8"
      },
      "source": [
        "## Classification Problems\n",
        "<img align=\"left\" src=\"https://github.com/stevechengnyc/ML-AndrewNg/blob/main/C1-Supervised%20ML_Regression%20and%20Classification/Week%203/images/C1_W3_Classification.png?raw=1\"     style=\" width:380px; padding: 10px; \" > Examples of classification problems are things like: identifying email as Spam or Not Spam or determining if a tumor is malignant or benign. In particular, these are examples of *binary* classification where there are two possible outcomes.  Outcomes can be  described in pairs of 'positive'/'negative' such as 'yes'/'no, 'true'/'false' or '1'/'0'.\n",
        "\n",
        "Plots of classification data sets often use symbols to indicate the outcome of an example. In the plots below, 'X' is used to represent the positive values while 'O' represents negative outcomes."
      ],
      "id": "CsTN3alf4Mp8"
    },
    {
      "cell_type": "code",
      "execution_count": 2,
      "metadata": {
        "id": "Vl-ZcAQi4Mp_"
      },
      "outputs": [],
      "source": [
        "x_train = np.array([0., 1, 2, 3, 4, 5])\n",
        "y_train = np.array([0,  0, 0, 1, 1, 1])\n",
        "X_train2 = np.array([[0.5, 1.5], [1,1], [1.5, 0.5], [3, 0.5], [2, 2], [1, 2.5]])\n",
        "y_train2 = np.array([0, 0, 0, 1, 1, 1])"
      ],
      "id": "Vl-ZcAQi4Mp_"
    },
    {
      "cell_type": "code",
      "source": [
        "X_train2.shape"
      ],
      "metadata": {
        "id": "eiFHcZWJ9rji",
        "outputId": "daede60f-6730-4df5-f962-fa2d822c2bc5",
        "colab": {
          "base_uri": "https://localhost:8080/"
        }
      },
      "id": "eiFHcZWJ9rji",
      "execution_count": null,
      "outputs": [
        {
          "output_type": "execute_result",
          "data": {
            "text/plain": [
              "(6, 2)"
            ]
          },
          "metadata": {},
          "execution_count": 10
        }
      ]
    },
    {
      "cell_type": "code",
      "source": [
        "pos = y_train==1\n",
        "pos"
      ],
      "metadata": {
        "id": "1sJ8z3n3B0bj",
        "outputId": "2f2714fc-4895-401b-ca6f-2bb5604495f8",
        "colab": {
          "base_uri": "https://localhost:8080/"
        }
      },
      "id": "1sJ8z3n3B0bj",
      "execution_count": null,
      "outputs": [
        {
          "output_type": "execute_result",
          "data": {
            "text/plain": [
              "array([False, False, False,  True,  True,  True])"
            ]
          },
          "metadata": {},
          "execution_count": 11
        }
      ]
    },
    {
      "cell_type": "code",
      "execution_count": 4,
      "metadata": {
        "id": "HYpuZrki4MqA",
        "outputId": "3804cdda-e386-41cf-9441-fe8bc16f7adc",
        "colab": {
          "base_uri": "https://localhost:8080/",
          "height": 534
        }
      },
      "outputs": [
        {
          "output_type": "error",
          "ename": "NameError",
          "evalue": "name 'plot_data' is not defined",
          "traceback": [
            "\u001b[0;31m---------------------------------------------------------------------------\u001b[0m",
            "\u001b[0;31mNameError\u001b[0m                                 Traceback (most recent call last)",
            "\u001b[0;32m<ipython-input-4-be4cb02035ae>\u001b[0m in \u001b[0;36m<cell line: 0>\u001b[0;34m()\u001b[0m\n\u001b[1;32m     14\u001b[0m \u001b[0;34m\u001b[0m\u001b[0m\n\u001b[1;32m     15\u001b[0m \u001b[0;31m#plot 2, two variables\u001b[0m\u001b[0;34m\u001b[0m\u001b[0;34m\u001b[0m\u001b[0m\n\u001b[0;32m---> 16\u001b[0;31m \u001b[0mplot_data\u001b[0m\u001b[0;34m(\u001b[0m\u001b[0mX_train2\u001b[0m\u001b[0;34m,\u001b[0m \u001b[0my_train2\u001b[0m\u001b[0;34m,\u001b[0m \u001b[0max\u001b[0m\u001b[0;34m[\u001b[0m\u001b[0;36m1\u001b[0m\u001b[0;34m]\u001b[0m\u001b[0;34m)\u001b[0m\u001b[0;34m\u001b[0m\u001b[0;34m\u001b[0m\u001b[0m\n\u001b[0m\u001b[1;32m     17\u001b[0m \u001b[0max\u001b[0m\u001b[0;34m[\u001b[0m\u001b[0;36m1\u001b[0m\u001b[0;34m]\u001b[0m\u001b[0;34m.\u001b[0m\u001b[0maxis\u001b[0m\u001b[0;34m(\u001b[0m\u001b[0;34m[\u001b[0m\u001b[0;36m0\u001b[0m\u001b[0;34m,\u001b[0m \u001b[0;36m4\u001b[0m\u001b[0;34m,\u001b[0m \u001b[0;36m0\u001b[0m\u001b[0;34m,\u001b[0m \u001b[0;36m4\u001b[0m\u001b[0;34m]\u001b[0m\u001b[0;34m)\u001b[0m\u001b[0;34m\u001b[0m\u001b[0;34m\u001b[0m\u001b[0m\n\u001b[1;32m     18\u001b[0m \u001b[0max\u001b[0m\u001b[0;34m[\u001b[0m\u001b[0;36m1\u001b[0m\u001b[0;34m]\u001b[0m\u001b[0;34m.\u001b[0m\u001b[0mset_ylabel\u001b[0m\u001b[0;34m(\u001b[0m\u001b[0;34m'$x_1$'\u001b[0m\u001b[0;34m,\u001b[0m \u001b[0mfontsize\u001b[0m\u001b[0;34m=\u001b[0m\u001b[0;36m12\u001b[0m\u001b[0;34m)\u001b[0m\u001b[0;34m\u001b[0m\u001b[0;34m\u001b[0m\u001b[0m\n",
            "\u001b[0;31mNameError\u001b[0m: name 'plot_data' is not defined"
          ]
        },
        {
          "output_type": "display_data",
          "data": {
            "text/plain": [
              "<Figure size 800x300 with 2 Axes>"
            ],
            "image/png": "[encoded data removed]"
          },
          "metadata": {}
        }
      ],
      "source": [
        "pos = y_train == 1\n",
        "neg = y_train == 0\n",
        "\n",
        "fig,ax = plt.subplots(1,2,figsize=(8,3))\n",
        "#plot 1, single variable\n",
        "ax[0].scatter(x_train[pos], y_train[pos], marker='x', s=80, c = 'red', label=\"y=1\")\n",
        "ax[0].scatter(x_train[neg], y_train[neg], marker='o', s=100, label=\"y=0\", facecolors='none',lw=3)\n",
        "\n",
        "ax[0].set_ylim(-0.08,1.1)\n",
        "ax[0].set_ylabel('y', fontsize=12)\n",
        "ax[0].set_xlabel('x', fontsize=12)\n",
        "ax[0].set_title('one variable plot')\n",
        "ax[0].legend()\n",
        "\n",
        "#plot 2, two variables\n",
        "plot_data(X_train2, y_train2, ax[1])\n",
        "ax[1].axis([0, 4, 0, 4])\n",
        "ax[1].set_ylabel('$x_1$', fontsize=12)\n",
        "ax[1].set_xlabel('$x_0$', fontsize=12)\n",
        "ax[1].set_title('two variable plot')\n",
        "ax[1].legend()\n",
        "plt.tight_layout()\n",
        "plt.show()\n"
      ],
      "id": "HYpuZrki4MqA"
    },
    {
      "cell_type": "code",
      "source": [],
      "metadata": {
        "id": "2Hf1AgaF4hep"
      },
      "id": "2Hf1AgaF4hep",
      "execution_count": null,
      "outputs": []
    },
    {
      "cell_type": "markdown",
      "metadata": {
        "id": "yMdRUHEr4MqC"
      },
      "source": [
        "Note in the plots above:\n",
        "- In the single variable plot, positive results are shown both a red 'X's and as y=1. Negative results are blue 'O's and are located at y=0.\n",
        "   - Recall in the case of linear regression, y would not have been limited to two values but could have been any value.\n",
        "- In the two-variable plot, the y axis is not available.  Positive results are shown as red 'X's, while negative results use the blue 'O' symbol.\n",
        "    - Recall in the case of linear regression with multiple variables, y would not have been limited to two values and a similar plot would have been three-dimensional."
      ],
      "id": "yMdRUHEr4MqC"
    },
    {
      "cell_type": "markdown",
      "metadata": {
        "id": "gDkS6fiQ4MqD"
      },
      "source": [
        "## Linear Regression approach\n",
        "In the previous week, you applied linear regression to build a prediction model. Let's try that approach here using the simple example that was described in the lecture. The model will predict if a tumor is benign or malignant based on tumor size.  Try the following:\n",
        "- Click on 'Run Linear Regression' to find the best linear regression model for the given data.\n",
        "    - Note the resulting linear model does **not** match the data well.\n",
        "One option to improve the results is to apply a *threshold*.\n",
        "- Tick the box on the 'Toggle 0.5 threshold' to show the predictions if a threshold is applied.\n",
        "    - These predictions look good, the predictions match the data\n",
        "- *Important*: Now, add further 'malignant' data points on the far right, in the large tumor size range (near 10), and re-run linear regression.\n",
        "    - Now, the model predicts the larger tumor, but data point at x=3 is being incorrectly predicted!\n",
        "- to clear/renew the plot, rerun the cell containing the plot command."
      ],
      "id": "gDkS6fiQ4MqD"
    },
    {
      "cell_type": "code",
      "execution_count": null,
      "metadata": {
        "id": "LGYmmzpE4MqE",
        "outputId": "a2e65387-811b-4577-da8e-1ca56259a2c3",
        "colab": {
          "referenced_widgets": [
            "a63aff111542435297d80ef31069a4cb"
          ]
        }
      },
      "outputs": [
        {
          "data": {
            "application/vnd.jupyter.widget-view+json": {
              "model_id": "a63aff111542435297d80ef31069a4cb",
              "version_major": 2,
              "version_minor": 0
            },
            "text/plain": [
              "Canvas(toolbar=Toolbar(toolitems=[('Home', 'Reset original view', 'home', 'home'), ('Back', 'Back to previous …"
            ]
          },
          "metadata": {},
          "output_type": "display_data"
        }
      ],
      "source": [
        "w_in = np.zeros((1))\n",
        "b_in = 0\n",
        "plt.close('all')\n",
        "addpt = plt_one_addpt_onclick( x_train,y_train, w_in, b_in, logistic=False)"
      ],
      "id": "LGYmmzpE4MqE"
    },
    {
      "cell_type": "markdown",
      "metadata": {
        "id": "eUupoTQw4MqG"
      },
      "source": [
        "The example above demonstrates that the linear model is insufficient to model categorical data. The model can be extended as described in the following lab."
      ],
      "id": "eUupoTQw4MqG"
    },
    {
      "cell_type": "markdown",
      "metadata": {
        "id": "Fy8qztPy4MqK"
      },
      "source": [
        "## Congratulations!\n",
        "In this lab you:\n",
        "- explored categorical data sets and plotting\n",
        "- determined that linear regression was insufficient for a classification problem."
      ],
      "id": "Fy8qztPy4MqK"
    },
    {
      "cell_type": "code",
      "execution_count": null,
      "metadata": {
        "id": "xRb9b7w14MqL"
      },
      "outputs": [],
      "source": [],
      "id": "xRb9b7w14MqL"
    },
    {
      "cell_type": "code",
      "execution_count": null,
      "metadata": {
        "id": "vnWGLnZs4MqM"
      },
      "outputs": [],
      "source": [],
      "id": "vnWGLnZs4MqM"
    }
  ],
  "metadata": {
    "kernelspec": {
      "display_name": "Python 3",
      "language": "python",
      "name": "python3"
    },
    "language_info": {
      "codemirror_mode": {
        "name": "ipython",
        "version": 3
      },
      "file_extension": ".py",
      "mimetype": "text/x-python",
      "name": "python",
      "nbconvert_exporter": "python",
      "pygments_lexer": "ipython3",
      "version": "3.7.6"
    },
    "colab": {
      "provenance": []
    }
  },
  "nbformat": 4,
  "nbformat_minor": 5
}