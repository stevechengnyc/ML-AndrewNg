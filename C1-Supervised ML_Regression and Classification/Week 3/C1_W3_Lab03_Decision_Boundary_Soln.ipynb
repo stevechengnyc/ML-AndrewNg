{
  "cells": [
    {
      "cell_type": "markdown",
      "metadata": {
        "id": "ro0tvQtSGKfc"
      },
      "source": [
        "# Optional Lab: Logistic Regression, Decision Boundary\n"
      ],
      "id": "ro0tvQtSGKfc"
    },
    {
      "cell_type": "markdown",
      "metadata": {
        "id": "HNL8G1AkGKfd"
      },
      "source": [
        "## Goals\n",
        "In this lab, you will:\n",
        "- Plot the decision boundary for a logistic regression model. This will give you a better sense of what the model is predicting.\n"
      ],
      "id": "HNL8G1AkGKfd"
    },
    {
      "cell_type": "code",
      "source": [
        "\"\"\"\n",
        "lab_utils_common\n",
        "   contains common routines and variable definitions\n",
        "   used by all the labs in this week.\n",
        "   by contrast, specific, large plotting routines will be in separate files\n",
        "   and are generally imported into the week where they are used.\n",
        "   those files will import this file\n",
        "\"\"\"\n",
        "import copy\n",
        "import math\n",
        "import numpy as np\n",
        "import matplotlib.pyplot as plt\n",
        "from matplotlib.patches import FancyArrowPatch\n",
        "from ipywidgets import Output\n",
        "\n",
        "np.set_printoptions(precision=2)\n",
        "\n",
        "dlc = dict(dlblue = '#0096ff', dlorange = '#FF9300', dldarkred='#C00000', dlmagenta='#FF40FF', dlpurple='#7030A0')\n",
        "dlblue = '#0096ff'; dlorange = '#FF9300'; dldarkred='#C00000'; dlmagenta='#FF40FF'; dlpurple='#7030A0'\n",
        "dlcolors = [dlblue, dlorange, dldarkred, dlmagenta, dlpurple]\n",
        "#plt.style.use('./deeplearning.mplstyle')\n",
        "\n",
        "def sigmoid(z):\n",
        "    \"\"\"\n",
        "    Compute the sigmoid of z\n",
        "\n",
        "    Parameters\n",
        "    ----------\n",
        "    z : array_like\n",
        "        A scalar or numpy array of any size.\n",
        "\n",
        "    Returns\n",
        "    -------\n",
        "     g : array_like\n",
        "         sigmoid(z)\n",
        "    \"\"\"\n",
        "    z = np.clip( z, -500, 500 )           # protect against overflow\n",
        "    g = 1.0/(1.0+np.exp(-z))\n",
        "\n",
        "    return g\n",
        "\n",
        "##########################################################\n",
        "# Regression Routines\n",
        "##########################################################\n",
        "\n",
        "def predict_logistic(X, w, b):\n",
        "    \"\"\" performs prediction \"\"\"\n",
        "    return sigmoid(X @ w + b)\n",
        "\n",
        "def predict_linear(X, w, b):\n",
        "    \"\"\" performs prediction \"\"\"\n",
        "    return X @ w + b\n",
        "\n",
        "def compute_cost_logistic(X, y, w, b, lambda_=0, safe=False):\n",
        "    \"\"\"\n",
        "    Computes cost using logistic loss, non-matrix version\n",
        "\n",
        "    Args:\n",
        "      X (ndarray): Shape (m,n)  matrix of examples with n features\n",
        "      y (ndarray): Shape (m,)   target values\n",
        "      w (ndarray): Shape (n,)   parameters for prediction\n",
        "      b (scalar):               parameter  for prediction\n",
        "      lambda_ : (scalar, float) Controls amount of regularization, 0 = no regularization\n",
        "      safe : (boolean)          True-selects under/overflow safe algorithm\n",
        "    Returns:\n",
        "      cost (scalar): cost\n",
        "    \"\"\"\n",
        "\n",
        "    m,n = X.shape\n",
        "    cost = 0.0\n",
        "    for i in range(m):\n",
        "        z_i    = np.dot(X[i],w) + b                                             #(n,)(n,) or (n,) ()\n",
        "        if safe:  #avoids overflows\n",
        "            cost += -(y[i] * z_i ) + log_1pexp(z_i)\n",
        "        else:\n",
        "            f_wb_i = sigmoid(z_i)                                                   #(n,)\n",
        "            cost  += -y[i] * np.log(f_wb_i) - (1 - y[i]) * np.log(1 - f_wb_i)       # scalar\n",
        "    cost = cost/m\n",
        "\n",
        "    reg_cost = 0\n",
        "    if lambda_ != 0:\n",
        "        for j in range(n):\n",
        "            reg_cost += (w[j]**2)                                               # scalar\n",
        "        reg_cost = (lambda_/(2*m))*reg_cost\n",
        "\n",
        "    return cost + reg_cost\n",
        "\n",
        "\n",
        "def log_1pexp(x, maximum=20):\n",
        "    ''' approximate log(1+exp^x)\n",
        "        https://stats.stackexchange.com/questions/475589/numerical-computation-of-cross-entropy-in-practice\n",
        "    Args:\n",
        "    x   : (ndarray Shape (n,1) or (n,)  input\n",
        "    out : (ndarray Shape matches x      output ~= np.log(1+exp(x))\n",
        "    '''\n",
        "\n",
        "    out  = np.zeros_like(x,dtype=float)\n",
        "    i    = x <= maximum\n",
        "    ni   = np.logical_not(i)\n",
        "\n",
        "    out[i]  = np.log(1 + np.exp(x[i]))\n",
        "    out[ni] = x[ni]\n",
        "    return out\n",
        "\n",
        "\n",
        "def compute_cost_matrix(X, y, w, b, logistic=False, lambda_=0, safe=True):\n",
        "    \"\"\"\n",
        "    Computes the cost using  using matrices\n",
        "    Args:\n",
        "      X : (ndarray, Shape (m,n))          matrix of examples\n",
        "      y : (ndarray  Shape (m,) or (m,1))  target value of each example\n",
        "      w : (ndarray  Shape (n,) or (n,1))  Values of parameter(s) of the model\n",
        "      b : (scalar )                       Values of parameter of the model\n",
        "      verbose : (Boolean) If true, print out intermediate value f_wb\n",
        "    Returns:\n",
        "      total_cost: (scalar)                cost\n",
        "    \"\"\"\n",
        "    m = X.shape[0]\n",
        "    y = y.reshape(-1,1)             # ensure 2D\n",
        "    w = w.reshape(-1,1)             # ensure 2D\n",
        "    if logistic:\n",
        "        if safe:  #safe from overflow\n",
        "            z = X @ w + b                                                           #(m,n)(n,1)=(m,1)\n",
        "            cost = -(y * z) + log_1pexp(z)\n",
        "            cost = np.sum(cost)/m                                                   # (scalar)\n",
        "        else:\n",
        "            f    = sigmoid(X @ w + b)                                               # (m,n)(n,1) = (m,1)\n",
        "            cost = (1/m)*(np.dot(-y.T, np.log(f)) - np.dot((1-y).T, np.log(1-f)))   # (1,m)(m,1) = (1,1)\n",
        "            cost = cost[0,0]                                                        # scalar\n",
        "    else:\n",
        "        f    = X @ w + b                                                        # (m,n)(n,1) = (m,1)\n",
        "        cost = (1/(2*m)) * np.sum((f - y)**2)                                   # scalar\n",
        "\n",
        "    reg_cost = (lambda_/(2*m)) * np.sum(w**2)                                   # scalar\n",
        "\n",
        "    total_cost = cost + reg_cost                                                # scalar\n",
        "\n",
        "    return total_cost                                                           # scalar\n",
        "\n",
        "def compute_gradient_matrix(X, y, w, b, logistic=False, lambda_=0):\n",
        "    \"\"\"\n",
        "    Computes the gradient using matrices\n",
        "\n",
        "    Args:\n",
        "      X : (ndarray, Shape (m,n))          matrix of examples\n",
        "      y : (ndarray  Shape (m,) or (m,1))  target value of each example\n",
        "      w : (ndarray  Shape (n,) or (n,1))  Values of parameters of the model\n",
        "      b : (scalar )                       Values of parameter of the model\n",
        "      logistic: (boolean)                 linear if false, logistic if true\n",
        "      lambda_:  (float)                   applies regularization if non-zero\n",
        "    Returns\n",
        "      dj_dw: (array_like Shape (n,1))     The gradient of the cost w.r.t. the parameters w\n",
        "      dj_db: (scalar)                     The gradient of the cost w.r.t. the parameter b\n",
        "    \"\"\"\n",
        "    m = X.shape[0]\n",
        "    y = y.reshape(-1,1)             # ensure 2D\n",
        "    w = w.reshape(-1,1)             # ensure 2D\n",
        "\n",
        "    f_wb  = sigmoid( X @ w + b ) if logistic else  X @ w + b      # (m,n)(n,1) = (m,1)\n",
        "    err   = f_wb - y                                              # (m,1)\n",
        "    dj_dw = (1/m) * (X.T @ err)                                   # (n,m)(m,1) = (n,1)\n",
        "    dj_db = (1/m) * np.sum(err)                                   # scalar\n",
        "\n",
        "    dj_dw += (lambda_/m) * w        # regularize                  # (n,1)\n",
        "\n",
        "    return dj_db, dj_dw                                           # scalar, (n,1)\n",
        "\n",
        "def gradient_descent(X, y, w_in, b_in, alpha, num_iters, logistic=False, lambda_=0, verbose=True):\n",
        "    \"\"\"\n",
        "    Performs batch gradient descent to learn theta. Updates theta by taking\n",
        "    num_iters gradient steps with learning rate alpha\n",
        "\n",
        "    Args:\n",
        "      X (ndarray):    Shape (m,n)         matrix of examples\n",
        "      y (ndarray):    Shape (m,) or (m,1) target value of each example\n",
        "      w_in (ndarray): Shape (n,) or (n,1) Initial values of parameters of the model\n",
        "      b_in (scalar):                      Initial value of parameter of the model\n",
        "      logistic: (boolean)                 linear if false, logistic if true\n",
        "      lambda_:  (float)                   applies regularization if non-zero\n",
        "      alpha (float):                      Learning rate\n",
        "      num_iters (int):                    number of iterations to run gradient descent\n",
        "\n",
        "    Returns:\n",
        "      w (ndarray): Shape (n,) or (n,1)    Updated values of parameters; matches incoming shape\n",
        "      b (scalar):                         Updated value of parameter\n",
        "    \"\"\"\n",
        "    # An array to store cost J and w's at each iteration primarily for graphing later\n",
        "    J_history = []\n",
        "    w = copy.deepcopy(w_in)  #avoid modifying global w within function\n",
        "    b = b_in\n",
        "    w = w.reshape(-1,1)      #prep for matrix operations\n",
        "    y = y.reshape(-1,1)\n",
        "\n",
        "    for i in range(num_iters):\n",
        "\n",
        "        # Calculate the gradient and update the parameters\n",
        "        dj_db,dj_dw = compute_gradient_matrix(X, y, w, b, logistic, lambda_)\n",
        "\n",
        "        # Update Parameters using w, b, alpha and gradient\n",
        "        w = w - alpha * dj_dw\n",
        "        b = b - alpha * dj_db\n",
        "\n",
        "        # Save cost J at each iteration\n",
        "        if i<100000:      # prevent resource exhaustion\n",
        "            J_history.append( compute_cost_matrix(X, y, w, b, logistic, lambda_) )\n",
        "\n",
        "        # Print cost every at intervals 10 times or as many iterations if < 10\n",
        "        if i% math.ceil(num_iters / 10) == 0:\n",
        "            if verbose: print(f\"Iteration {i:4d}: Cost {J_history[-1]}   \")\n",
        "\n",
        "    return w.reshape(w_in.shape), b, J_history  #return final w,b and J history for graphing\n",
        "\n",
        "def zscore_normalize_features(X):\n",
        "    \"\"\"\n",
        "    computes  X, zcore normalized by column\n",
        "\n",
        "    Args:\n",
        "      X (ndarray): Shape (m,n) input data, m examples, n features\n",
        "\n",
        "    Returns:\n",
        "      X_norm (ndarray): Shape (m,n)  input normalized by column\n",
        "      mu (ndarray):     Shape (n,)   mean of each feature\n",
        "      sigma (ndarray):  Shape (n,)   standard deviation of each feature\n",
        "    \"\"\"\n",
        "    # find the mean of each column/feature\n",
        "    mu     = np.mean(X, axis=0)                 # mu will have shape (n,)\n",
        "    # find the standard deviation of each column/feature\n",
        "    sigma  = np.std(X, axis=0)                  # sigma will have shape (n,)\n",
        "    # element-wise, subtract mu for that column from each example, divide by std for that column\n",
        "    X_norm = (X - mu) / sigma\n",
        "\n",
        "    return X_norm, mu, sigma\n",
        "\n",
        "#check our work\n",
        "#from sklearn.preprocessing import scale\n",
        "#scale(X_orig, axis=0, with_mean=True, with_std=True, copy=True)\n",
        "\n",
        "######################################################\n",
        "# Common Plotting Routines\n",
        "######################################################\n",
        "\n",
        "\n",
        "def plot_data(X, y, ax, pos_label=\"y=1\", neg_label=\"y=0\", s=80, loc='best' ):\n",
        "    \"\"\" plots logistic data with two axis \"\"\"\n",
        "    # Find Indices of Positive and Negative Examples\n",
        "    pos = y == 1\n",
        "    neg = y == 0\n",
        "    pos = pos.reshape(-1,)  #work with 1D or 1D y vectors\n",
        "    neg = neg.reshape(-1,)\n",
        "\n",
        "    # Plot examples\n",
        "    ax.scatter(X[pos, 0], X[pos, 1], marker='x', s=s, c = 'red', label=pos_label)\n",
        "    ax.scatter(X[neg, 0], X[neg, 1], marker='o', s=s, label=neg_label, facecolors='none', edgecolors=dlblue, lw=3)\n",
        "    ax.legend(loc=loc)\n",
        "\n",
        "    ax.figure.canvas.toolbar_visible = False\n",
        "    ax.figure.canvas.header_visible = False\n",
        "    ax.figure.canvas.footer_visible = False\n",
        "\n",
        "def plt_tumor_data(x, y, ax):\n",
        "    \"\"\" plots tumor data on one axis \"\"\"\n",
        "    pos = y == 1\n",
        "    neg = y == 0\n",
        "\n",
        "    ax.scatter(x[pos], y[pos], marker='x', s=80, c = 'red', label=\"malignant\")\n",
        "    ax.scatter(x[neg], y[neg], marker='o', s=100, label=\"benign\", facecolors='none', edgecolors=dlblue,lw=3)\n",
        "    ax.set_ylim(-0.175,1.1)\n",
        "    ax.set_ylabel('y')\n",
        "    ax.set_xlabel('Tumor Size')\n",
        "    ax.set_title(\"Logistic Regression on Categorical Data\")\n",
        "\n",
        "    ax.figure.canvas.toolbar_visible = False\n",
        "    ax.figure.canvas.header_visible = False\n",
        "    ax.figure.canvas.footer_visible = False\n",
        "\n",
        "# Draws a threshold at 0.5\n",
        "def draw_vthresh(ax,x):\n",
        "    \"\"\" draws a threshold \"\"\"\n",
        "    ylim = ax.get_ylim()\n",
        "    xlim = ax.get_xlim()\n",
        "    ax.fill_between([xlim[0], x], [ylim[1], ylim[1]], alpha=0.2, color=dlblue)\n",
        "    ax.fill_between([x, xlim[1]], [ylim[1], ylim[1]], alpha=0.2, color=dldarkred)\n",
        "    ax.annotate(\"z >= 0\", xy= [x,0.5], xycoords='data',\n",
        "                xytext=[30,5],textcoords='offset points')\n",
        "    d = FancyArrowPatch(\n",
        "        posA=(x, 0.5), posB=(x+3, 0.5), color=dldarkred,\n",
        "        arrowstyle='simple, head_width=5, head_length=10, tail_width=0.0',\n",
        "    )\n",
        "    ax.add_artist(d)\n",
        "    ax.annotate(\"z < 0\", xy= [x,0.5], xycoords='data',\n",
        "                 xytext=[-50,5],textcoords='offset points', ha='left')\n",
        "    f = FancyArrowPatch(\n",
        "        posA=(x, 0.5), posB=(x-3, 0.5), color=dlblue,\n",
        "        arrowstyle='simple, head_width=5, head_length=10, tail_width=0.0',\n",
        "    )\n",
        "    ax.add_artist(f)"
      ],
      "metadata": {
        "id": "oI6q92P5Ps0R"
      },
      "id": "oI6q92P5Ps0R",
      "execution_count": 2,
      "outputs": []
    },
    {
      "cell_type": "code",
      "source": [
        "import time\n",
        "import copy\n",
        "from ipywidgets import Output\n",
        "from matplotlib.widgets import Button, CheckButtons\n",
        "from matplotlib.patches import FancyArrowPatch\n",
        "#from lab_utils_common import np, plt, dlblue, dlorange, sigmoid, dldarkred, gradient_descent\n",
        "\n",
        "# for debug\n",
        "#output = Output() # sends hidden error messages to display when using widgets\n",
        "#display(output)\n",
        "\n",
        "class plt_one_addpt_onclick:\n",
        "    \"\"\" class to run one interactive plot \"\"\"\n",
        "    def __init__(self, x, y, w, b, logistic=True):\n",
        "        self.logistic=logistic\n",
        "        pos = y == 1\n",
        "        neg = y == 0\n",
        "\n",
        "        fig,ax = plt.subplots(1,1,figsize=(8,4))\n",
        "        fig.canvas.toolbar_visible = False\n",
        "        fig.canvas.header_visible = False\n",
        "        fig.canvas.footer_visible = False\n",
        "\n",
        "        plt.subplots_adjust(bottom=0.25)\n",
        "        ax.scatter(x[pos], y[pos], marker='x', s=80, c = 'red', label=\"malignant\")\n",
        "        ax.scatter(x[neg], y[neg], marker='o', s=100, label=\"benign\", facecolors='none', edgecolors=dlblue,lw=3)\n",
        "        ax.set_ylim(-0.05,1.1)\n",
        "        xlim = ax.get_xlim()\n",
        "        ax.set_xlim(xlim[0],xlim[1]*2)\n",
        "        ax.set_ylabel('y')\n",
        "        ax.set_xlabel('Tumor Size')\n",
        "        self.alegend = ax.legend(loc='lower right')\n",
        "        if self.logistic:\n",
        "            ax.set_title(\"Example of Logistic Regression on Categorical Data\")\n",
        "        else:\n",
        "            ax.set_title(\"Example of Linear Regression on Categorical Data\")\n",
        "\n",
        "        ax.text(0.65,0.8,\"[Click to add data points]\", size=10, transform=ax.transAxes)\n",
        "\n",
        "        axcalc   = plt.axes([0.1, 0.05, 0.38, 0.075])  #l,b,w,h\n",
        "        axthresh = plt.axes([0.5, 0.05, 0.38, 0.075])  #l,b,w,h\n",
        "        self.tlist = []\n",
        "\n",
        "        self.fig = fig\n",
        "        self.ax = [ax,axcalc,axthresh]\n",
        "        self.x = x\n",
        "        self.y = y\n",
        "        self.w = copy.deepcopy(w)\n",
        "        self.b = b\n",
        "        f_wb = np.matmul(self.x.reshape(-1,1), self.w) + self.b\n",
        "        if self.logistic:\n",
        "            self.aline = self.ax[0].plot(self.x, sigmoid(f_wb), color=dlblue)\n",
        "            self.bline = self.ax[0].plot(self.x, f_wb, color=dlorange,lw=1)\n",
        "        else:\n",
        "            self.aline = self.ax[0].plot(self.x, sigmoid(f_wb), color=dlblue)\n",
        "\n",
        "        self.cid = fig.canvas.mpl_connect('button_press_event', self.add_data)\n",
        "        if self.logistic:\n",
        "            self.bcalc = Button(axcalc, 'Run Logistic Regression (click)', color=dlblue)\n",
        "            self.bcalc.on_clicked(self.calc_logistic)\n",
        "        else:\n",
        "            self.bcalc = Button(axcalc, 'Run Linear Regression (click)', color=dlblue)\n",
        "            self.bcalc.on_clicked(self.calc_linear)\n",
        "        self.bthresh = CheckButtons(axthresh, ('Toggle 0.5 threshold (after regression)',))\n",
        "        self.bthresh.on_clicked(self.thresh)\n",
        "        self.resize_sq(self.bthresh)\n",
        "\n",
        " #   @output.capture()  # debug\n",
        "    def add_data(self, event):\n",
        "        #self.ax[0].text(0.1,0.1, f\"in onclick\")\n",
        "        if event.inaxes == self.ax[0]:\n",
        "            x_coord = event.xdata\n",
        "            y_coord = event.ydata\n",
        "\n",
        "            if y_coord > 0.5:\n",
        "                self.ax[0].scatter(x_coord, 1, marker='x', s=80, c = 'red' )\n",
        "                self.y = np.append(self.y,1)\n",
        "            else:\n",
        "                self.ax[0].scatter(x_coord, 0, marker='o', s=100, facecolors='none', edgecolors=dlblue,lw=3)\n",
        "                self.y = np.append(self.y,0)\n",
        "            self.x = np.append(self.x,x_coord)\n",
        "        self.fig.canvas.draw()\n",
        "\n",
        "#   @output.capture()  # debug\n",
        "    def calc_linear(self, event):\n",
        "        if self.bthresh.get_status()[0]:\n",
        "            self.remove_thresh()\n",
        "        for it in [1,1,1,1,1,2,4,8,16,32,64,128,256]:\n",
        "            self.w, self.b, _ = gradient_descent(self.x.reshape(-1,1), self.y.reshape(-1,1),\n",
        "                                                 self.w.reshape(-1,1), self.b, 0.01, it,\n",
        "                                                 logistic=False, lambda_=0, verbose=False)\n",
        "            self.aline[0].remove()\n",
        "            self.alegend.remove()\n",
        "            y_hat = np.matmul(self.x.reshape(-1,1), self.w) + self.b\n",
        "            self.aline = self.ax[0].plot(self.x, y_hat, color=dlblue,\n",
        "                                         label=f\"y = {np.squeeze(self.w):0.2f}x+({self.b:0.2f})\")\n",
        "            self.alegend = self.ax[0].legend(loc='lower right')\n",
        "            time.sleep(0.3)\n",
        "            self.fig.canvas.draw()\n",
        "        if self.bthresh.get_status()[0]:\n",
        "            self.draw_thresh()\n",
        "            self.fig.canvas.draw()\n",
        "\n",
        "    def calc_logistic(self, event):\n",
        "        if self.bthresh.get_status()[0]:\n",
        "            self.remove_thresh()\n",
        "        for it in [1, 8,16,32,64,128,256,512,1024,2048,4096]:\n",
        "            self.w, self.b, _ = gradient_descent(self.x.reshape(-1,1), self.y.reshape(-1,1),\n",
        "                                                 self.w.reshape(-1,1), self.b, 0.1, it,\n",
        "                                                 logistic=True, lambda_=0, verbose=False)\n",
        "            self.aline[0].remove()\n",
        "            self.bline[0].remove()\n",
        "            self.alegend.remove()\n",
        "            xlim  = self.ax[0].get_xlim()\n",
        "            x_hat = np.linspace(*xlim, 30)\n",
        "            y_hat = sigmoid(np.matmul(x_hat.reshape(-1,1), self.w) + self.b)\n",
        "            self.aline = self.ax[0].plot(x_hat, y_hat, color=dlblue,\n",
        "                                         label=\"y = sigmoid(z)\")\n",
        "            f_wb = np.matmul(x_hat.reshape(-1,1), self.w) + self.b\n",
        "            self.bline = self.ax[0].plot(x_hat, f_wb, color=dlorange, lw=1,\n",
        "                                         label=f\"z = {np.squeeze(self.w):0.2f}x+({self.b:0.2f})\")\n",
        "            self.alegend = self.ax[0].legend(loc='lower right')\n",
        "            time.sleep(0.3)\n",
        "            self.fig.canvas.draw()\n",
        "        if self.bthresh.get_status()[0]:\n",
        "            self.draw_thresh()\n",
        "            self.fig.canvas.draw()\n",
        "\n",
        "\n",
        "    def thresh(self, event):\n",
        "        if self.bthresh.get_status()[0]:\n",
        "            #plt.figtext(0,0, f\"in thresh {self.bthresh.get_status()}\")\n",
        "            self.draw_thresh()\n",
        "        else:\n",
        "            #plt.figtext(0,0.3, f\"in thresh {self.bthresh.get_status()}\")\n",
        "            self.remove_thresh()\n",
        "\n",
        "    def draw_thresh(self):\n",
        "        ws = np.squeeze(self.w)\n",
        "        xp5 = -self.b/ws if self.logistic else (0.5 - self.b) / ws\n",
        "        ylim = self.ax[0].get_ylim()\n",
        "        xlim = self.ax[0].get_xlim()\n",
        "        a = self.ax[0].fill_between([xlim[0], xp5], [ylim[1], ylim[1]], alpha=0.2, color=dlblue)\n",
        "        b = self.ax[0].fill_between([xp5, xlim[1]], [ylim[1], ylim[1]], alpha=0.2, color=dldarkred)\n",
        "        c = self.ax[0].annotate(\"Malignant\", xy= [xp5,0.5], xycoords='data',\n",
        "             xytext=[30,5],textcoords='offset points')\n",
        "        d = FancyArrowPatch(\n",
        "            posA=(xp5, 0.5), posB=(xp5+1.5, 0.5), color=dldarkred,\n",
        "            arrowstyle='simple, head_width=5, head_length=10, tail_width=0.0',\n",
        "        )\n",
        "        self.ax[0].add_artist(d)\n",
        "\n",
        "        e = self.ax[0].annotate(\"Benign\", xy= [xp5,0.5], xycoords='data',\n",
        "                     xytext=[-70,5],textcoords='offset points', ha='left')\n",
        "        f = FancyArrowPatch(\n",
        "            posA=(xp5, 0.5), posB=(xp5-1.5, 0.5), color=dlblue,\n",
        "            arrowstyle='simple, head_width=5, head_length=10, tail_width=0.0',\n",
        "        )\n",
        "        self.ax[0].add_artist(f)\n",
        "        self.tlist = [a,b,c,d,e,f]\n",
        "\n",
        "        self.fig.canvas.draw()\n",
        "\n",
        "    def remove_thresh(self):\n",
        "        #plt.figtext(0.5,0.0, f\"rem thresh {self.bthresh.get_status()}\")\n",
        "        for artist in self.tlist:\n",
        "            artist.remove()\n",
        "        self.fig.canvas.draw()\n",
        "\n",
        "    def resize_sq(self, bcid):\n",
        "        \"\"\" resizes the check box \"\"\"\n",
        "        #future reference\n",
        "        #print(f\"width  : {bcid.rectangles[0].get_width()}\")\n",
        "        #print(f\"height : {bcid.rectangles[0].get_height()}\")\n",
        "        #print(f\"xy     : {bcid.rectangles[0].get_xy()}\")\n",
        "        #print(f\"bb     : {bcid.rectangles[0].get_bbox()}\")\n",
        "        #print(f\"points : {bcid.rectangles[0].get_bbox().get_points()}\")  #[[xmin,ymin],[xmax,ymax]]\n",
        "\n",
        "        h = bcid.rectangles[0].get_height()\n",
        "        bcid.rectangles[0].set_height(3*h)\n",
        "\n",
        "        ymax = bcid.rectangles[0].get_bbox().y1\n",
        "        ymin = bcid.rectangles[0].get_bbox().y0\n",
        "\n",
        "        bcid.lines[0][0].set_ydata([ymax,ymin])\n",
        "        bcid.lines[0][1].set_ydata([ymin,ymax])"
      ],
      "metadata": {
        "id": "TtZBoh-hP3ML"
      },
      "id": "TtZBoh-hP3ML",
      "execution_count": 3,
      "outputs": []
    },
    {
      "cell_type": "code",
      "execution_count": 5,
      "metadata": {
        "id": "zWS6HZL-GKfe"
      },
      "outputs": [],
      "source": [
        "import numpy as np\n",
        "%matplotlib inline\n",
        "import matplotlib.pyplot as plt\n",
        "#from lab_utils_common import plot_data, sigmoid, draw_vthresh\n",
        "#plt.style.use('./deeplearning.mplstyle')"
      ],
      "id": "zWS6HZL-GKfe"
    },
    {
      "cell_type": "markdown",
      "metadata": {
        "id": "6mrN-BC8GKfi"
      },
      "source": [
        "## Dataset\n",
        "\n",
        "Let's suppose you have following training dataset\n",
        "- The input variable `X` is a numpy array which has 6 training examples, each with two features\n",
        "- The output variable `y` is also a numpy array with 6 examples, and `y` is either `0` or `1`"
      ],
      "id": "6mrN-BC8GKfi"
    },
    {
      "cell_type": "code",
      "execution_count": 6,
      "metadata": {
        "id": "-rEvQcSsGKfj"
      },
      "outputs": [],
      "source": [
        "X = np.array([[0.5, 1.5], [1,1], [1.5, 0.5], [3, 0.5], [2, 2], [1, 2.5]])\n",
        "y = np.array([0, 0, 0, 1, 1, 1]).reshape(-1,1)"
      ],
      "id": "-rEvQcSsGKfj"
    },
    {
      "cell_type": "code",
      "source": [
        "X.shape, y.shape"
      ],
      "metadata": {
        "id": "13-eHEe0QIra",
        "outputId": "f3697464-10c6-43a4-b54b-ebe4c0af2d63",
        "colab": {
          "base_uri": "https://localhost:8080/"
        }
      },
      "id": "13-eHEe0QIra",
      "execution_count": 7,
      "outputs": [
        {
          "output_type": "execute_result",
          "data": {
            "text/plain": [
              "((6, 2), (6, 1))"
            ]
          },
          "metadata": {},
          "execution_count": 7
        }
      ]
    },
    {
      "cell_type": "markdown",
      "metadata": {
        "id": "UNTHoyFUGKfj"
      },
      "source": [
        "### Plot data\n",
        "\n",
        "Let's use a helper function to plot this data. The data points with label $y=1$ are shown as red crosses, while the data points with label $y=0$ are shown as blue circles."
      ],
      "id": "UNTHoyFUGKfj"
    },
    {
      "cell_type": "code",
      "source": [
        "fig,ax = plt.subplots(1,1,figsize=(4,4))\n",
        "plot_data(X, y, ax)"
      ],
      "metadata": {
        "id": "I_1eOBGzQH9I",
        "outputId": "44ddfcd9-1b9f-435e-9bef-eda72dcca80f",
        "colab": {
          "base_uri": "https://localhost:8080/",
          "height": 368
        }
      },
      "id": "I_1eOBGzQH9I",
      "execution_count": 13,
      "outputs": [
        {
          "output_type": "display_data",
          "data": {
            "text/plain": [
              "<Figure size 400x400 with 1 Axes>"
            ],
            "image/png": "[encoded data removed]"
          },
          "metadata": {}
        }
      ]
    },
    {
      "cell_type": "code",
      "execution_count": 21,
      "metadata": {
        "id": "BPuh4OLSGKfk",
        "outputId": "4f49280d-841f-421d-f818-83def76c5ee0",
        "colab": {
          "base_uri": "https://localhost:8080/",
          "height": 394
        }
      },
      "outputs": [
        {
          "output_type": "display_data",
          "data": {
            "text/plain": [
              "<Figure size 400x400 with 1 Axes>"
            ],
            "image/png": "[encoded data removed]"
          },
          "metadata": {}
        }
      ],
      "source": [
        "fig,ax = plt.subplots(1,1,figsize=(4,4))\n",
        "plot_data(X, y, ax)\n",
        "\n",
        "ax.axis([0, 4, 0, 3.5])\n",
        "ax.set_ylabel('$x_1$')\n",
        "ax.set_xlabel(r'$x_0$')\n",
        "plt.show()"
      ],
      "id": "BPuh4OLSGKfk"
    },
    {
      "cell_type": "code",
      "source": [
        "fig,ax = plt.subplots(1,1,figsize=(4,4))\n",
        "ax.axis([0, 4, 0, 3.5])\n",
        "ax.set_ylabel('$x_1$')\n",
        "ax.set_xlabel('$x_0$')\n",
        "plt.show()"
      ],
      "metadata": {
        "id": "HomNfBrJRaOs",
        "outputId": "aa30404d-80c1-428e-efa3-c7b04015c4fa",
        "colab": {
          "base_uri": "https://localhost:8080/",
          "height": 394
        }
      },
      "id": "HomNfBrJRaOs",
      "execution_count": 22,
      "outputs": [
        {
          "output_type": "display_data",
          "data": {
            "text/plain": [
              "<Figure size 400x400 with 1 Axes>"
            ],
            "image/png": "[encoded data removed]"
          },
          "metadata": {}
        }
      ]
    },
    {
      "cell_type": "markdown",
      "metadata": {
        "id": "VBIMoSJIGKfk"
      },
      "source": [
        "## Logistic regression model\n",
        "\n",
        "\n",
        "* Suppose you'd like to train a logistic regression model on this data which has the form   \n",
        "\n",
        "  $f(x) = g(w_0x_0+w_1x_1 + b)$\n",
        "  \n",
        "  where $g(z) = \\frac{1}{1+e^{-z}}$, which is the sigmoid function\n",
        "\n",
        "\n",
        "* Let's say that you trained the model and get the parameters as $b = -3, w_0 = 1, w_1 = 1$. That is,\n",
        "\n",
        "  $f(x) = g(x_0+x_1-3)$\n",
        "\n",
        "  (You'll learn how to fit these parameters to the data further in the course)\n",
        "  \n",
        "  \n",
        "Let's try to understand what this trained model is predicting by plotting its decision boundary"
      ],
      "id": "VBIMoSJIGKfk"
    },
    {
      "cell_type": "markdown",
      "metadata": {
        "id": "ITIWE4ItGKfl"
      },
      "source": [
        "### Refresher on logistic regression and decision boundary\n",
        "\n",
        "* Recall that for logistic regression, the model is represented as\n",
        "\n",
        "  $$f_{\\mathbf{w},b}(\\mathbf{x}^{(i)}) = g(\\mathbf{w} \\cdot \\mathbf{x}^{(i)} + b) \\tag{1}$$\n",
        "\n",
        "  where $g(z)$ is known as the sigmoid function and it maps all input values to values between 0 and 1:\n",
        "\n",
        "  $g(z) = \\frac{1}{1+e^{-z}}\\tag{2}$\n",
        "  and $\\mathbf{w} \\cdot \\mathbf{x}$ is the vector dot product:\n",
        "  \n",
        "  $$\\mathbf{w} \\cdot \\mathbf{x} = w_0 x_0 + w_1 x_1$$\n",
        "  \n",
        "  \n",
        " * We interpret the output of the model ($f_{\\mathbf{w},b}(x)$) as the probability that $y=1$ given $\\mathbf{x}$ and parameterized by $\\mathbf{w}$ and $b$.\n",
        "* Therefore, to get a final prediction ($y=0$ or $y=1$) from the logistic regression model, we can use the following heuristic -\n",
        "\n",
        "  if $f_{\\mathbf{w},b}(x) >= 0.5$, predict $y=1$\n",
        "  \n",
        "  if $f_{\\mathbf{w},b}(x) < 0.5$, predict $y=0$\n",
        "  \n",
        "  \n",
        "* Let's plot the sigmoid function to see where $g(z) >= 0.5$"
      ],
      "id": "ITIWE4ItGKfl"
    },
    {
      "cell_type": "code",
      "execution_count": 23,
      "metadata": {
        "id": "S8YEK5lxGKfm",
        "outputId": "212cfa18-1819-4645-81a5-eb3a84c66fab",
        "colab": {
          "base_uri": "https://localhost:8080/",
          "height": 333
        }
      },
      "outputs": [
        {
          "output_type": "display_data",
          "data": {
            "text/plain": [
              "<Figure size 500x300 with 1 Axes>"
            ],
            "image/png": "[encoded data removed]"
          },
          "metadata": {}
        }
      ],
      "source": [
        "# Plot sigmoid(z) over a range of values from -10 to 10\n",
        "z = np.arange(-10,11)\n",
        "\n",
        "fig,ax = plt.subplots(1,1,figsize=(5,3))\n",
        "# Plot z vs sigmoid(z)\n",
        "ax.plot(z, sigmoid(z), c=\"b\")\n",
        "\n",
        "ax.set_title(\"Sigmoid function\")\n",
        "ax.set_ylabel('sigmoid(z)')\n",
        "ax.set_xlabel('z')\n",
        "draw_vthresh(ax,0)"
      ],
      "id": "S8YEK5lxGKfm"
    },
    {
      "cell_type": "markdown",
      "metadata": {
        "id": "nZsUXXu1GKfn"
      },
      "source": [
        "* As you can see, $g(z) >= 0.5$ for $z >=0$\n",
        "\n",
        "* For a logistic regression model, $z = \\mathbf{w} \\cdot \\mathbf{x} + b$. Therefore,\n",
        "\n",
        "  if $\\mathbf{w} \\cdot \\mathbf{x} + b >= 0$, the model predicts $y=1$\n",
        "  \n",
        "  if $\\mathbf{w} \\cdot \\mathbf{x} + b < 0$, the model predicts $y=0$\n",
        "  \n",
        "  \n",
        "  \n",
        "### Plotting decision boundary\n",
        "\n",
        "Now, let's go back to our example to understand how the logistic regression model is making predictions.\n",
        "\n",
        "* Our logistic regression model has the form\n",
        "\n",
        "  $f(\\mathbf{x}) = g(-3 + x_0+x_1)$\n",
        "\n",
        "\n",
        "* From what you've learnt above, you can see that this model predicts $y=1$ if $-3 + x_0+x_1 >= 0$\n",
        "\n",
        "Let's see what this looks like graphically. We'll start by plotting $-3 + x_0+x_1 = 0$, which is equivalent to $x_1 = 3 - x_0$.\n"
      ],
      "id": "nZsUXXu1GKfn"
    },
    {
      "cell_type": "code",
      "source": [
        "# Choose values between 0 and 6\n",
        "x0 = np.arange(0,6)\n",
        "\n",
        "x1 = 3 - x0\n",
        "fig,ax = plt.subplots(1,1,figsize=(5,4))\n",
        "# Plot the decision boundary\n",
        "ax.plot(x0,x1, c=\"b\")"
      ],
      "metadata": {
        "id": "TdUl_umAbJMg",
        "outputId": "6a56977e-a1c3-445e-c9cd-10b24be7e84d",
        "colab": {
          "base_uri": "https://localhost:8080/",
          "height": 386
        }
      },
      "id": "TdUl_umAbJMg",
      "execution_count": 25,
      "outputs": [
        {
          "output_type": "execute_result",
          "data": {
            "text/plain": [
              "[<matplotlib.lines.Line2D at 0x7d2920236310>]"
            ]
          },
          "metadata": {},
          "execution_count": 25
        },
        {
          "output_type": "display_data",
          "data": {
            "text/plain": [
              "<Figure size 500x400 with 1 Axes>"
            ],
            "image/png": "[encoded data removed]"
          },
          "metadata": {}
        }
      ]
    },
    {
      "cell_type": "code",
      "execution_count": 24,
      "metadata": {
        "id": "ounttSP5GKfn",
        "outputId": "c6130c00-2f67-4c0a-dc0d-13d8e521fa23",
        "colab": {
          "base_uri": "https://localhost:8080/",
          "height": 394
        }
      },
      "outputs": [
        {
          "output_type": "display_data",
          "data": {
            "text/plain": [
              "<Figure size 500x400 with 1 Axes>"
            ],
            "image/png": "[encoded data removed]"
          },
          "metadata": {}
        }
      ],
      "source": [
        "# Choose values between 0 and 6\n",
        "x0 = np.arange(0,6)\n",
        "\n",
        "x1 = 3 - x0\n",
        "fig,ax = plt.subplots(1,1,figsize=(5,4))\n",
        "# Plot the decision boundary\n",
        "ax.plot(x0,x1, c=\"b\")\n",
        "ax.axis([0, 4, 0, 3.5])\n",
        "\n",
        "# Fill the region below the line\n",
        "ax.fill_between(x0,x1, alpha=0.2)\n",
        "\n",
        "# Plot the original data\n",
        "plot_data(X,y,ax)\n",
        "ax.set_ylabel(r'$x_1$')\n",
        "ax.set_xlabel(r'$x_0$')\n",
        "plt.show()"
      ],
      "id": "ounttSP5GKfn"
    },
    {
      "cell_type": "markdown",
      "metadata": {
        "id": "Gui-NQ1_GKfo"
      },
      "source": [
        "* In the plot above, the blue line represents the line $x_0 + x_1 - 3 = 0$ and it should intersect the x1 axis at 3 (if we set $x_1$ = 3, $x_0$ = 0) and the x0 axis at 3 (if we set $x_1$ = 0, $x_0$ = 3).\n",
        "\n",
        "\n",
        "* The shaded region represents $-3 + x_0+x_1 < 0$. The region above the line is $-3 + x_0+x_1 > 0$.\n",
        "\n",
        "\n",
        "* Any point in the shaded region (under the line) is classified as $y=0$.  Any point on or above the line is classified as $y=1$. This line is known as the \"decision boundary\".\n",
        "\n",
        "As we've seen in the lectures, by using higher order polynomial terms (eg: $f(x) = g( x_0^2 + x_1 -1)$, we can come up with more complex non-linear boundaries."
      ],
      "id": "Gui-NQ1_GKfo"
    },
    {
      "cell_type": "markdown",
      "metadata": {
        "id": "hAZysXdGGKfo"
      },
      "source": [
        "## Congratulations!\n",
        "You have explored the decision boundary in the context of logistic regression."
      ],
      "id": "hAZysXdGGKfo"
    },
    {
      "cell_type": "code",
      "execution_count": null,
      "metadata": {
        "id": "8MflalTMGKfo"
      },
      "outputs": [],
      "source": [],
      "id": "8MflalTMGKfo"
    },
    {
      "cell_type": "code",
      "execution_count": null,
      "metadata": {
        "id": "7MEftKavGKfo"
      },
      "outputs": [],
      "source": [],
      "id": "7MEftKavGKfo"
    }
  ],
  "metadata": {
    "kernelspec": {
      "display_name": "Python 3",
      "language": "python",
      "name": "python3"
    },
    "language_info": {
      "codemirror_mode": {
        "name": "ipython",
        "version": 3
      },
      "file_extension": ".py",
      "mimetype": "text/x-python",
      "name": "python",
      "nbconvert_exporter": "python",
      "pygments_lexer": "ipython3",
      "version": "3.7.6"
    },
    "colab": {
      "provenance": []
    }
  },
  "nbformat": 4,
  "nbformat_minor": 5
}