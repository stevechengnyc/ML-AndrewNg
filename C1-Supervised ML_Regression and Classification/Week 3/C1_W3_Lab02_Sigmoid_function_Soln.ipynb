{
  "cells": [
    {
      "cell_type": "markdown",
      "metadata": {
        "id": "K3kTvF4WCI6w"
      },
      "source": [
        "# Optional Lab: Logistic Regression\n",
        "\n",
        "In this ungraded lab, you will\n",
        "- explore the sigmoid function (also known as the logistic function)\n",
        "- explore logistic regression; which uses the sigmoid function"
      ],
      "id": "K3kTvF4WCI6w"
    },
    {
      "cell_type": "code",
      "source": [
        "\"\"\"\n",
        "lab_utils_common\n",
        "   contains common routines and variable definitions\n",
        "   used by all the labs in this week.\n",
        "   by contrast, specific, large plotting routines will be in separate files\n",
        "   and are generally imported into the week where they are used.\n",
        "   those files will import this file\n",
        "\"\"\"\n",
        "import copy\n",
        "import math\n",
        "import numpy as np\n",
        "import matplotlib.pyplot as plt\n",
        "from matplotlib.patches import FancyArrowPatch\n",
        "from ipywidgets import Output\n",
        "\n",
        "np.set_printoptions(precision=2)\n",
        "\n",
        "dlc = dict(dlblue = '#0096ff', dlorange = '#FF9300', dldarkred='#C00000', dlmagenta='#FF40FF', dlpurple='#7030A0')\n",
        "dlblue = '#0096ff'; dlorange = '#FF9300'; dldarkred='#C00000'; dlmagenta='#FF40FF'; dlpurple='#7030A0'\n",
        "dlcolors = [dlblue, dlorange, dldarkred, dlmagenta, dlpurple]\n",
        "#plt.style.use('./deeplearning.mplstyle')\n",
        "\n",
        "def sigmoid(z):\n",
        "    \"\"\"\n",
        "    Compute the sigmoid of z\n",
        "\n",
        "    Parameters\n",
        "    ----------\n",
        "    z : array_like\n",
        "        A scalar or numpy array of any size.\n",
        "\n",
        "    Returns\n",
        "    -------\n",
        "     g : array_like\n",
        "         sigmoid(z)\n",
        "    \"\"\"\n",
        "    z = np.clip( z, -500, 500 )           # protect against overflow\n",
        "    g = 1.0/(1.0+np.exp(-z))\n",
        "\n",
        "    return g\n",
        "\n",
        "##########################################################\n",
        "# Regression Routines\n",
        "##########################################################\n",
        "\n",
        "def predict_logistic(X, w, b):\n",
        "    \"\"\" performs prediction \"\"\"\n",
        "    return sigmoid(X @ w + b)\n",
        "\n",
        "def predict_linear(X, w, b):\n",
        "    \"\"\" performs prediction \"\"\"\n",
        "    return X @ w + b\n",
        "\n",
        "def compute_cost_logistic(X, y, w, b, lambda_=0, safe=False):\n",
        "    \"\"\"\n",
        "    Computes cost using logistic loss, non-matrix version\n",
        "\n",
        "    Args:\n",
        "      X (ndarray): Shape (m,n)  matrix of examples with n features\n",
        "      y (ndarray): Shape (m,)   target values\n",
        "      w (ndarray): Shape (n,)   parameters for prediction\n",
        "      b (scalar):               parameter  for prediction\n",
        "      lambda_ : (scalar, float) Controls amount of regularization, 0 = no regularization\n",
        "      safe : (boolean)          True-selects under/overflow safe algorithm\n",
        "    Returns:\n",
        "      cost (scalar): cost\n",
        "    \"\"\"\n",
        "\n",
        "    m,n = X.shape\n",
        "    cost = 0.0\n",
        "    for i in range(m):\n",
        "        z_i    = np.dot(X[i],w) + b                                             #(n,)(n,) or (n,) ()\n",
        "        if safe:  #avoids overflows\n",
        "            cost += -(y[i] * z_i ) + log_1pexp(z_i)\n",
        "        else:\n",
        "            f_wb_i = sigmoid(z_i)                                                   #(n,)\n",
        "            cost  += -y[i] * np.log(f_wb_i) - (1 - y[i]) * np.log(1 - f_wb_i)       # scalar\n",
        "    cost = cost/m\n",
        "\n",
        "    reg_cost = 0\n",
        "    if lambda_ != 0:\n",
        "        for j in range(n):\n",
        "            reg_cost += (w[j]**2)                                               # scalar\n",
        "        reg_cost = (lambda_/(2*m))*reg_cost\n",
        "\n",
        "    return cost + reg_cost\n",
        "\n",
        "\n",
        "def log_1pexp(x, maximum=20):\n",
        "    ''' approximate log(1+exp^x)\n",
        "        https://stats.stackexchange.com/questions/475589/numerical-computation-of-cross-entropy-in-practice\n",
        "    Args:\n",
        "    x   : (ndarray Shape (n,1) or (n,)  input\n",
        "    out : (ndarray Shape matches x      output ~= np.log(1+exp(x))\n",
        "    '''\n",
        "\n",
        "    out  = np.zeros_like(x,dtype=float)\n",
        "    i    = x <= maximum\n",
        "    ni   = np.logical_not(i)\n",
        "\n",
        "    out[i]  = np.log(1 + np.exp(x[i]))\n",
        "    out[ni] = x[ni]\n",
        "    return out\n",
        "\n",
        "\n",
        "def compute_cost_matrix(X, y, w, b, logistic=False, lambda_=0, safe=True):\n",
        "    \"\"\"\n",
        "    Computes the cost using  using matrices\n",
        "    Args:\n",
        "      X : (ndarray, Shape (m,n))          matrix of examples\n",
        "      y : (ndarray  Shape (m,) or (m,1))  target value of each example\n",
        "      w : (ndarray  Shape (n,) or (n,1))  Values of parameter(s) of the model\n",
        "      b : (scalar )                       Values of parameter of the model\n",
        "      verbose : (Boolean) If true, print out intermediate value f_wb\n",
        "    Returns:\n",
        "      total_cost: (scalar)                cost\n",
        "    \"\"\"\n",
        "    m = X.shape[0]\n",
        "    y = y.reshape(-1,1)             # ensure 2D\n",
        "    w = w.reshape(-1,1)             # ensure 2D\n",
        "    if logistic:\n",
        "        if safe:  #safe from overflow\n",
        "            z = X @ w + b                                                           #(m,n)(n,1)=(m,1)\n",
        "            cost = -(y * z) + log_1pexp(z)\n",
        "            cost = np.sum(cost)/m                                                   # (scalar)\n",
        "        else:\n",
        "            f    = sigmoid(X @ w + b)                                               # (m,n)(n,1) = (m,1)\n",
        "            cost = (1/m)*(np.dot(-y.T, np.log(f)) - np.dot((1-y).T, np.log(1-f)))   # (1,m)(m,1) = (1,1)\n",
        "            cost = cost[0,0]                                                        # scalar\n",
        "    else:\n",
        "        f    = X @ w + b                                                        # (m,n)(n,1) = (m,1)\n",
        "        cost = (1/(2*m)) * np.sum((f - y)**2)                                   # scalar\n",
        "\n",
        "    reg_cost = (lambda_/(2*m)) * np.sum(w**2)                                   # scalar\n",
        "\n",
        "    total_cost = cost + reg_cost                                                # scalar\n",
        "\n",
        "    return total_cost                                                           # scalar\n",
        "\n",
        "def compute_gradient_matrix(X, y, w, b, logistic=False, lambda_=0):\n",
        "    \"\"\"\n",
        "    Computes the gradient using matrices\n",
        "\n",
        "    Args:\n",
        "      X : (ndarray, Shape (m,n))          matrix of examples\n",
        "      y : (ndarray  Shape (m,) or (m,1))  target value of each example\n",
        "      w : (ndarray  Shape (n,) or (n,1))  Values of parameters of the model\n",
        "      b : (scalar )                       Values of parameter of the model\n",
        "      logistic: (boolean)                 linear if false, logistic if true\n",
        "      lambda_:  (float)                   applies regularization if non-zero\n",
        "    Returns\n",
        "      dj_dw: (array_like Shape (n,1))     The gradient of the cost w.r.t. the parameters w\n",
        "      dj_db: (scalar)                     The gradient of the cost w.r.t. the parameter b\n",
        "    \"\"\"\n",
        "    m = X.shape[0]\n",
        "    y = y.reshape(-1,1)             # ensure 2D\n",
        "    w = w.reshape(-1,1)             # ensure 2D\n",
        "\n",
        "    f_wb  = sigmoid( X @ w + b ) if logistic else  X @ w + b      # (m,n)(n,1) = (m,1)\n",
        "    err   = f_wb - y                                              # (m,1)\n",
        "    dj_dw = (1/m) * (X.T @ err)                                   # (n,m)(m,1) = (n,1)\n",
        "    dj_db = (1/m) * np.sum(err)                                   # scalar\n",
        "\n",
        "    dj_dw += (lambda_/m) * w        # regularize                  # (n,1)\n",
        "\n",
        "    return dj_db, dj_dw                                           # scalar, (n,1)\n",
        "\n",
        "def gradient_descent(X, y, w_in, b_in, alpha, num_iters, logistic=False, lambda_=0, verbose=True):\n",
        "    \"\"\"\n",
        "    Performs batch gradient descent to learn theta. Updates theta by taking\n",
        "    num_iters gradient steps with learning rate alpha\n",
        "\n",
        "    Args:\n",
        "      X (ndarray):    Shape (m,n)         matrix of examples\n",
        "      y (ndarray):    Shape (m,) or (m,1) target value of each example\n",
        "      w_in (ndarray): Shape (n,) or (n,1) Initial values of parameters of the model\n",
        "      b_in (scalar):                      Initial value of parameter of the model\n",
        "      logistic: (boolean)                 linear if false, logistic if true\n",
        "      lambda_:  (float)                   applies regularization if non-zero\n",
        "      alpha (float):                      Learning rate\n",
        "      num_iters (int):                    number of iterations to run gradient descent\n",
        "\n",
        "    Returns:\n",
        "      w (ndarray): Shape (n,) or (n,1)    Updated values of parameters; matches incoming shape\n",
        "      b (scalar):                         Updated value of parameter\n",
        "    \"\"\"\n",
        "    # An array to store cost J and w's at each iteration primarily for graphing later\n",
        "    J_history = []\n",
        "    w = copy.deepcopy(w_in)  #avoid modifying global w within function\n",
        "    b = b_in\n",
        "    w = w.reshape(-1,1)      #prep for matrix operations\n",
        "    y = y.reshape(-1,1)\n",
        "\n",
        "    for i in range(num_iters):\n",
        "\n",
        "        # Calculate the gradient and update the parameters\n",
        "        dj_db,dj_dw = compute_gradient_matrix(X, y, w, b, logistic, lambda_)\n",
        "\n",
        "        # Update Parameters using w, b, alpha and gradient\n",
        "        w = w - alpha * dj_dw\n",
        "        b = b - alpha * dj_db\n",
        "\n",
        "        # Save cost J at each iteration\n",
        "        if i<100000:      # prevent resource exhaustion\n",
        "            J_history.append( compute_cost_matrix(X, y, w, b, logistic, lambda_) )\n",
        "\n",
        "        # Print cost every at intervals 10 times or as many iterations if < 10\n",
        "        if i% math.ceil(num_iters / 10) == 0:\n",
        "            if verbose: print(f\"Iteration {i:4d}: Cost {J_history[-1]}   \")\n",
        "\n",
        "    return w.reshape(w_in.shape), b, J_history  #return final w,b and J history for graphing\n",
        "\n",
        "def zscore_normalize_features(X):\n",
        "    \"\"\"\n",
        "    computes  X, zcore normalized by column\n",
        "\n",
        "    Args:\n",
        "      X (ndarray): Shape (m,n) input data, m examples, n features\n",
        "\n",
        "    Returns:\n",
        "      X_norm (ndarray): Shape (m,n)  input normalized by column\n",
        "      mu (ndarray):     Shape (n,)   mean of each feature\n",
        "      sigma (ndarray):  Shape (n,)   standard deviation of each feature\n",
        "    \"\"\"\n",
        "    # find the mean of each column/feature\n",
        "    mu     = np.mean(X, axis=0)                 # mu will have shape (n,)\n",
        "    # find the standard deviation of each column/feature\n",
        "    sigma  = np.std(X, axis=0)                  # sigma will have shape (n,)\n",
        "    # element-wise, subtract mu for that column from each example, divide by std for that column\n",
        "    X_norm = (X - mu) / sigma\n",
        "\n",
        "    return X_norm, mu, sigma\n",
        "\n",
        "#check our work\n",
        "#from sklearn.preprocessing import scale\n",
        "#scale(X_orig, axis=0, with_mean=True, with_std=True, copy=True)\n",
        "\n",
        "######################################################\n",
        "# Common Plotting Routines\n",
        "######################################################\n",
        "\n",
        "\n",
        "def plot_data(X, y, ax, pos_label=\"y=1\", neg_label=\"y=0\", s=80, loc='best' ):\n",
        "    \"\"\" plots logistic data with two axis \"\"\"\n",
        "    # Find Indices of Positive and Negative Examples\n",
        "    pos = y == 1\n",
        "    neg = y == 0\n",
        "    pos = pos.reshape(-1,)  #work with 1D or 1D y vectors\n",
        "    neg = neg.reshape(-1,)\n",
        "\n",
        "    # Plot examples\n",
        "    ax.scatter(X[pos, 0], X[pos, 1], marker='x', s=s, c = 'red', label=pos_label)\n",
        "    ax.scatter(X[neg, 0], X[neg, 1], marker='o', s=s, label=neg_label, facecolors='none', edgecolors=dlblue, lw=3)\n",
        "    ax.legend(loc=loc)\n",
        "\n",
        "    ax.figure.canvas.toolbar_visible = False\n",
        "    ax.figure.canvas.header_visible = False\n",
        "    ax.figure.canvas.footer_visible = False\n",
        "\n",
        "def plt_tumor_data(x, y, ax):\n",
        "    \"\"\" plots tumor data on one axis \"\"\"\n",
        "    pos = y == 1\n",
        "    neg = y == 0\n",
        "\n",
        "    ax.scatter(x[pos], y[pos], marker='x', s=80, c = 'red', label=\"malignant\")\n",
        "    ax.scatter(x[neg], y[neg], marker='o', s=100, label=\"benign\", facecolors='none', edgecolors=dlblue,lw=3)\n",
        "    ax.set_ylim(-0.175,1.1)\n",
        "    ax.set_ylabel('y')\n",
        "    ax.set_xlabel('Tumor Size')\n",
        "    ax.set_title(\"Logistic Regression on Categorical Data\")\n",
        "\n",
        "    ax.figure.canvas.toolbar_visible = False\n",
        "    ax.figure.canvas.header_visible = False\n",
        "    ax.figure.canvas.footer_visible = False\n",
        "\n",
        "# Draws a threshold at 0.5\n",
        "def draw_vthresh(ax,x):\n",
        "    \"\"\" draws a threshold \"\"\"\n",
        "    ylim = ax.get_ylim()\n",
        "    xlim = ax.get_xlim()\n",
        "    ax.fill_between([xlim[0], x], [ylim[1], ylim[1]], alpha=0.2, color=dlblue)\n",
        "    ax.fill_between([x, xlim[1]], [ylim[1], ylim[1]], alpha=0.2, color=dldarkred)\n",
        "    ax.annotate(\"z >= 0\", xy= [x,0.5], xycoords='data',\n",
        "                xytext=[30,5],textcoords='offset points')\n",
        "    d = FancyArrowPatch(\n",
        "        posA=(x, 0.5), posB=(x+3, 0.5), color=dldarkred,\n",
        "        arrowstyle='simple, head_width=5, head_length=10, tail_width=0.0',\n",
        "    )\n",
        "    ax.add_artist(d)\n",
        "    ax.annotate(\"z < 0\", xy= [x,0.5], xycoords='data',\n",
        "                 xytext=[-50,5],textcoords='offset points', ha='left')\n",
        "    f = FancyArrowPatch(\n",
        "        posA=(x, 0.5), posB=(x-3, 0.5), color=dlblue,\n",
        "        arrowstyle='simple, head_width=5, head_length=10, tail_width=0.0',\n",
        "    )\n",
        "    ax.add_artist(f)"
      ],
      "metadata": {
        "id": "tamJTzmADQbJ"
      },
      "id": "tamJTzmADQbJ",
      "execution_count": 7,
      "outputs": []
    },
    {
      "cell_type": "code",
      "source": [
        "import time\n",
        "import copy\n",
        "from ipywidgets import Output\n",
        "from matplotlib.widgets import Button, CheckButtons\n",
        "from matplotlib.patches import FancyArrowPatch\n",
        "#from lab_utils_common import np, plt, dlblue, dlorange, sigmoid, dldarkred, gradient_descent\n",
        "\n",
        "# for debug\n",
        "#output = Output() # sends hidden error messages to display when using widgets\n",
        "#display(output)\n",
        "\n",
        "class plt_one_addpt_onclick:\n",
        "    \"\"\" class to run one interactive plot \"\"\"\n",
        "    def __init__(self, x, y, w, b, logistic=True):\n",
        "        self.logistic=logistic\n",
        "        pos = y == 1\n",
        "        neg = y == 0\n",
        "\n",
        "        fig,ax = plt.subplots(1,1,figsize=(8,4))\n",
        "        fig.canvas.toolbar_visible = False\n",
        "        fig.canvas.header_visible = False\n",
        "        fig.canvas.footer_visible = False\n",
        "\n",
        "        plt.subplots_adjust(bottom=0.25)\n",
        "        ax.scatter(x[pos], y[pos], marker='x', s=80, c = 'red', label=\"malignant\")\n",
        "        ax.scatter(x[neg], y[neg], marker='o', s=100, label=\"benign\", facecolors='none', edgecolors=dlblue,lw=3)\n",
        "        ax.set_ylim(-0.05,1.1)\n",
        "        xlim = ax.get_xlim()\n",
        "        ax.set_xlim(xlim[0],xlim[1]*2)\n",
        "        ax.set_ylabel('y')\n",
        "        ax.set_xlabel('Tumor Size')\n",
        "        self.alegend = ax.legend(loc='lower right')\n",
        "        if self.logistic:\n",
        "            ax.set_title(\"Example of Logistic Regression on Categorical Data\")\n",
        "        else:\n",
        "            ax.set_title(\"Example of Linear Regression on Categorical Data\")\n",
        "\n",
        "        ax.text(0.65,0.8,\"[Click to add data points]\", size=10, transform=ax.transAxes)\n",
        "\n",
        "        axcalc   = plt.axes([0.1, 0.05, 0.38, 0.075])  #l,b,w,h\n",
        "        axthresh = plt.axes([0.5, 0.05, 0.38, 0.075])  #l,b,w,h\n",
        "        self.tlist = []\n",
        "\n",
        "        self.fig = fig\n",
        "        self.ax = [ax,axcalc,axthresh]\n",
        "        self.x = x\n",
        "        self.y = y\n",
        "        self.w = copy.deepcopy(w)\n",
        "        self.b = b\n",
        "        f_wb = np.matmul(self.x.reshape(-1,1), self.w) + self.b\n",
        "        if self.logistic:\n",
        "            self.aline = self.ax[0].plot(self.x, sigmoid(f_wb), color=dlblue)\n",
        "            self.bline = self.ax[0].plot(self.x, f_wb, color=dlorange,lw=1)\n",
        "        else:\n",
        "            self.aline = self.ax[0].plot(self.x, sigmoid(f_wb), color=dlblue)\n",
        "\n",
        "        self.cid = fig.canvas.mpl_connect('button_press_event', self.add_data)\n",
        "        if self.logistic:\n",
        "            self.bcalc = Button(axcalc, 'Run Logistic Regression (click)', color=dlblue)\n",
        "            self.bcalc.on_clicked(self.calc_logistic)\n",
        "        else:\n",
        "            self.bcalc = Button(axcalc, 'Run Linear Regression (click)', color=dlblue)\n",
        "            self.bcalc.on_clicked(self.calc_linear)\n",
        "        self.bthresh = CheckButtons(axthresh, ('Toggle 0.5 threshold (after regression)',))\n",
        "        self.bthresh.on_clicked(self.thresh)\n",
        "        self.resize_sq(self.bthresh)\n",
        "\n",
        " #   @output.capture()  # debug\n",
        "    def add_data(self, event):\n",
        "        #self.ax[0].text(0.1,0.1, f\"in onclick\")\n",
        "        if event.inaxes == self.ax[0]:\n",
        "            x_coord = event.xdata\n",
        "            y_coord = event.ydata\n",
        "\n",
        "            if y_coord > 0.5:\n",
        "                self.ax[0].scatter(x_coord, 1, marker='x', s=80, c = 'red' )\n",
        "                self.y = np.append(self.y,1)\n",
        "            else:\n",
        "                self.ax[0].scatter(x_coord, 0, marker='o', s=100, facecolors='none', edgecolors=dlblue,lw=3)\n",
        "                self.y = np.append(self.y,0)\n",
        "            self.x = np.append(self.x,x_coord)\n",
        "        self.fig.canvas.draw()\n",
        "\n",
        "#   @output.capture()  # debug\n",
        "    def calc_linear(self, event):\n",
        "        if self.bthresh.get_status()[0]:\n",
        "            self.remove_thresh()\n",
        "        for it in [1,1,1,1,1,2,4,8,16,32,64,128,256]:\n",
        "            self.w, self.b, _ = gradient_descent(self.x.reshape(-1,1), self.y.reshape(-1,1),\n",
        "                                                 self.w.reshape(-1,1), self.b, 0.01, it,\n",
        "                                                 logistic=False, lambda_=0, verbose=False)\n",
        "            self.aline[0].remove()\n",
        "            self.alegend.remove()\n",
        "            y_hat = np.matmul(self.x.reshape(-1,1), self.w) + self.b\n",
        "            self.aline = self.ax[0].plot(self.x, y_hat, color=dlblue,\n",
        "                                         label=f\"y = {np.squeeze(self.w):0.2f}x+({self.b:0.2f})\")\n",
        "            self.alegend = self.ax[0].legend(loc='lower right')\n",
        "            time.sleep(0.3)\n",
        "            self.fig.canvas.draw()\n",
        "        if self.bthresh.get_status()[0]:\n",
        "            self.draw_thresh()\n",
        "            self.fig.canvas.draw()\n",
        "\n",
        "    def calc_logistic(self, event):\n",
        "        if self.bthresh.get_status()[0]:\n",
        "            self.remove_thresh()\n",
        "        for it in [1, 8,16,32,64,128,256,512,1024,2048,4096]:\n",
        "            self.w, self.b, _ = gradient_descent(self.x.reshape(-1,1), self.y.reshape(-1,1),\n",
        "                                                 self.w.reshape(-1,1), self.b, 0.1, it,\n",
        "                                                 logistic=True, lambda_=0, verbose=False)\n",
        "            self.aline[0].remove()\n",
        "            self.bline[0].remove()\n",
        "            self.alegend.remove()\n",
        "            xlim  = self.ax[0].get_xlim()\n",
        "            x_hat = np.linspace(*xlim, 30)\n",
        "            y_hat = sigmoid(np.matmul(x_hat.reshape(-1,1), self.w) + self.b)\n",
        "            self.aline = self.ax[0].plot(x_hat, y_hat, color=dlblue,\n",
        "                                         label=\"y = sigmoid(z)\")\n",
        "            f_wb = np.matmul(x_hat.reshape(-1,1), self.w) + self.b\n",
        "            self.bline = self.ax[0].plot(x_hat, f_wb, color=dlorange, lw=1,\n",
        "                                         label=f\"z = {np.squeeze(self.w):0.2f}x+({self.b:0.2f})\")\n",
        "            self.alegend = self.ax[0].legend(loc='lower right')\n",
        "            time.sleep(0.3)\n",
        "            self.fig.canvas.draw()\n",
        "        if self.bthresh.get_status()[0]:\n",
        "            self.draw_thresh()\n",
        "            self.fig.canvas.draw()\n",
        "\n",
        "\n",
        "    def thresh(self, event):\n",
        "        if self.bthresh.get_status()[0]:\n",
        "            #plt.figtext(0,0, f\"in thresh {self.bthresh.get_status()}\")\n",
        "            self.draw_thresh()\n",
        "        else:\n",
        "            #plt.figtext(0,0.3, f\"in thresh {self.bthresh.get_status()}\")\n",
        "            self.remove_thresh()\n",
        "\n",
        "    def draw_thresh(self):\n",
        "        ws = np.squeeze(self.w)\n",
        "        xp5 = -self.b/ws if self.logistic else (0.5 - self.b) / ws\n",
        "        ylim = self.ax[0].get_ylim()\n",
        "        xlim = self.ax[0].get_xlim()\n",
        "        a = self.ax[0].fill_between([xlim[0], xp5], [ylim[1], ylim[1]], alpha=0.2, color=dlblue)\n",
        "        b = self.ax[0].fill_between([xp5, xlim[1]], [ylim[1], ylim[1]], alpha=0.2, color=dldarkred)\n",
        "        c = self.ax[0].annotate(\"Malignant\", xy= [xp5,0.5], xycoords='data',\n",
        "             xytext=[30,5],textcoords='offset points')\n",
        "        d = FancyArrowPatch(\n",
        "            posA=(xp5, 0.5), posB=(xp5+1.5, 0.5), color=dldarkred,\n",
        "            arrowstyle='simple, head_width=5, head_length=10, tail_width=0.0',\n",
        "        )\n",
        "        self.ax[0].add_artist(d)\n",
        "\n",
        "        e = self.ax[0].annotate(\"Benign\", xy= [xp5,0.5], xycoords='data',\n",
        "                     xytext=[-70,5],textcoords='offset points', ha='left')\n",
        "        f = FancyArrowPatch(\n",
        "            posA=(xp5, 0.5), posB=(xp5-1.5, 0.5), color=dlblue,\n",
        "            arrowstyle='simple, head_width=5, head_length=10, tail_width=0.0',\n",
        "        )\n",
        "        self.ax[0].add_artist(f)\n",
        "        self.tlist = [a,b,c,d,e,f]\n",
        "\n",
        "        self.fig.canvas.draw()\n",
        "\n",
        "    def remove_thresh(self):\n",
        "        #plt.figtext(0.5,0.0, f\"rem thresh {self.bthresh.get_status()}\")\n",
        "        for artist in self.tlist:\n",
        "            artist.remove()\n",
        "        self.fig.canvas.draw()\n",
        "\n",
        "    def resize_sq(self, bcid):\n",
        "        \"\"\" resizes the check box \"\"\"\n",
        "        #future reference\n",
        "        #print(f\"width  : {bcid.rectangles[0].get_width()}\")\n",
        "        #print(f\"height : {bcid.rectangles[0].get_height()}\")\n",
        "        #print(f\"xy     : {bcid.rectangles[0].get_xy()}\")\n",
        "        #print(f\"bb     : {bcid.rectangles[0].get_bbox()}\")\n",
        "        #print(f\"points : {bcid.rectangles[0].get_bbox().get_points()}\")  #[[xmin,ymin],[xmax,ymax]]\n",
        "\n",
        "        h = bcid.rectangles[0].get_height()\n",
        "        bcid.rectangles[0].set_height(3*h)\n",
        "\n",
        "        ymax = bcid.rectangles[0].get_bbox().y1\n",
        "        ymin = bcid.rectangles[0].get_bbox().y0\n",
        "\n",
        "        bcid.lines[0][0].set_ydata([ymax,ymin])\n",
        "        bcid.lines[0][1].set_ydata([ymin,ymax])"
      ],
      "metadata": {
        "id": "7q-lw9bnDGpu"
      },
      "id": "7q-lw9bnDGpu",
      "execution_count": 10,
      "outputs": []
    },
    {
      "cell_type": "code",
      "source": [
        "pip install ipympl"
      ],
      "metadata": {
        "id": "UxsiP1uAEjHO",
        "outputId": "07085523-9746-4e53-e7be-1b8042482d39",
        "colab": {
          "base_uri": "https://localhost:8080/"
        }
      },
      "id": "UxsiP1uAEjHO",
      "execution_count": 12,
      "outputs": [
        {
          "output_type": "stream",
          "name": "stdout",
          "text": [
            "Collecting ipympl\n",
            "  Downloading ipympl-0.9.6-py3-none-any.whl.metadata (8.7 kB)\n",
            "Requirement already satisfied: ipython<9 in /usr/local/lib/python3.11/dist-packages (from ipympl) (7.34.0)\n",
            "Requirement already satisfied: ipywidgets<9,>=7.6.0 in /usr/local/lib/python3.11/dist-packages (from ipympl) (7.7.1)\n",
            "Requirement already satisfied: matplotlib<4,>=3.5.0 in /usr/local/lib/python3.11/dist-packages (from ipympl) (3.10.0)\n",
            "Requirement already satisfied: numpy in /usr/local/lib/python3.11/dist-packages (from ipympl) (1.26.4)\n",
            "Requirement already satisfied: pillow in /usr/local/lib/python3.11/dist-packages (from ipympl) (11.1.0)\n",
            "Requirement already satisfied: traitlets<6 in /usr/local/lib/python3.11/dist-packages (from ipympl) (5.7.1)\n",
            "Requirement already satisfied: setuptools>=18.5 in /usr/local/lib/python3.11/dist-packages (from ipython<9->ipympl) (75.1.0)\n",
            "Collecting jedi>=0.16 (from ipython<9->ipympl)\n",
            "  Downloading jedi-0.19.2-py2.py3-none-any.whl.metadata (22 kB)\n",
            "Requirement already satisfied: decorator in /usr/local/lib/python3.11/dist-packages (from ipython<9->ipympl) (4.4.2)\n",
            "Requirement already satisfied: pickleshare in /usr/local/lib/python3.11/dist-packages (from ipython<9->ipympl) (0.7.5)\n",
            "Requirement already satisfied: prompt-toolkit!=3.0.0,!=3.0.1,<3.1.0,>=2.0.0 in /usr/local/lib/python3.11/dist-packages (from ipython<9->ipympl) (3.0.48)\n",
            "Requirement already satisfied: pygments in /usr/local/lib/python3.11/dist-packages (from ipython<9->ipympl) (2.18.0)\n",
            "Requirement already satisfied: backcall in /usr/local/lib/python3.11/dist-packages (from ipython<9->ipympl) (0.2.0)\n",
            "Requirement already satisfied: matplotlib-inline in /usr/local/lib/python3.11/dist-packages (from ipython<9->ipympl) (0.1.7)\n",
            "Requirement already satisfied: pexpect>4.3 in /usr/local/lib/python3.11/dist-packages (from ipython<9->ipympl) (4.9.0)\n",
            "Requirement already satisfied: ipykernel>=4.5.1 in /usr/local/lib/python3.11/dist-packages (from ipywidgets<9,>=7.6.0->ipympl) (5.5.6)\n",
            "Requirement already satisfied: ipython-genutils~=0.2.0 in /usr/local/lib/python3.11/dist-packages (from ipywidgets<9,>=7.6.0->ipympl) (0.2.0)\n",
            "Requirement already satisfied: widgetsnbextension~=3.6.0 in /usr/local/lib/python3.11/dist-packages (from ipywidgets<9,>=7.6.0->ipympl) (3.6.10)\n",
            "Requirement already satisfied: jupyterlab-widgets>=1.0.0 in /usr/local/lib/python3.11/dist-packages (from ipywidgets<9,>=7.6.0->ipympl) (3.0.13)\n",
            "Requirement already satisfied: contourpy>=1.0.1 in /usr/local/lib/python3.11/dist-packages (from matplotlib<4,>=3.5.0->ipympl) (1.3.1)\n",
            "Requirement already satisfied: cycler>=0.10 in /usr/local/lib/python3.11/dist-packages (from matplotlib<4,>=3.5.0->ipympl) (0.12.1)\n",
            "Requirement already satisfied: fonttools>=4.22.0 in /usr/local/lib/python3.11/dist-packages (from matplotlib<4,>=3.5.0->ipympl) (4.55.3)\n",
            "Requirement already satisfied: kiwisolver>=1.3.1 in /usr/local/lib/python3.11/dist-packages (from matplotlib<4,>=3.5.0->ipympl) (1.4.8)\n",
            "Requirement already satisfied: packaging>=20.0 in /usr/local/lib/python3.11/dist-packages (from matplotlib<4,>=3.5.0->ipympl) (24.2)\n",
            "Requirement already satisfied: pyparsing>=2.3.1 in /usr/local/lib/python3.11/dist-packages (from matplotlib<4,>=3.5.0->ipympl) (3.2.1)\n",
            "Requirement already satisfied: python-dateutil>=2.7 in /usr/local/lib/python3.11/dist-packages (from matplotlib<4,>=3.5.0->ipympl) (2.8.2)\n",
            "Requirement already satisfied: jupyter-client in /usr/local/lib/python3.11/dist-packages (from ipykernel>=4.5.1->ipywidgets<9,>=7.6.0->ipympl) (6.1.12)\n",
            "Requirement already satisfied: tornado>=4.2 in /usr/local/lib/python3.11/dist-packages (from ipykernel>=4.5.1->ipywidgets<9,>=7.6.0->ipympl) (6.3.3)\n",
            "Requirement already satisfied: parso<0.9.0,>=0.8.4 in /usr/local/lib/python3.11/dist-packages (from jedi>=0.16->ipython<9->ipympl) (0.8.4)\n",
            "Requirement already satisfied: ptyprocess>=0.5 in /usr/local/lib/python3.11/dist-packages (from pexpect>4.3->ipython<9->ipympl) (0.7.0)\n",
            "Requirement already satisfied: wcwidth in /usr/local/lib/python3.11/dist-packages (from prompt-toolkit!=3.0.0,!=3.0.1,<3.1.0,>=2.0.0->ipython<9->ipympl) (0.2.13)\n",
            "Requirement already satisfied: six>=1.5 in /usr/local/lib/python3.11/dist-packages (from python-dateutil>=2.7->matplotlib<4,>=3.5.0->ipympl) (1.17.0)\n",
            "Requirement already satisfied: notebook>=4.4.1 in /usr/local/lib/python3.11/dist-packages (from widgetsnbextension~=3.6.0->ipywidgets<9,>=7.6.0->ipympl) (6.5.5)\n",
            "Requirement already satisfied: jinja2 in /usr/local/lib/python3.11/dist-packages (from notebook>=4.4.1->widgetsnbextension~=3.6.0->ipywidgets<9,>=7.6.0->ipympl) (3.1.5)\n",
            "Requirement already satisfied: pyzmq<25,>=17 in /usr/local/lib/python3.11/dist-packages (from notebook>=4.4.1->widgetsnbextension~=3.6.0->ipywidgets<9,>=7.6.0->ipympl) (24.0.1)\n",
            "Requirement already satisfied: argon2-cffi in /usr/local/lib/python3.11/dist-packages (from notebook>=4.4.1->widgetsnbextension~=3.6.0->ipywidgets<9,>=7.6.0->ipympl) (23.1.0)\n",
            "Requirement already satisfied: jupyter-core>=4.6.1 in /usr/local/lib/python3.11/dist-packages (from notebook>=4.4.1->widgetsnbextension~=3.6.0->ipywidgets<9,>=7.6.0->ipympl) (5.7.2)\n",
            "Requirement already satisfied: nbformat in /usr/local/lib/python3.11/dist-packages (from notebook>=4.4.1->widgetsnbextension~=3.6.0->ipywidgets<9,>=7.6.0->ipympl) (5.10.4)\n",
            "Requirement already satisfied: nbconvert>=5 in /usr/local/lib/python3.11/dist-packages (from notebook>=4.4.1->widgetsnbextension~=3.6.0->ipywidgets<9,>=7.6.0->ipympl) (7.16.5)\n",
            "Requirement already satisfied: nest-asyncio>=1.5 in /usr/local/lib/python3.11/dist-packages (from notebook>=4.4.1->widgetsnbextension~=3.6.0->ipywidgets<9,>=7.6.0->ipympl) (1.6.0)\n",
            "Requirement already satisfied: Send2Trash>=1.8.0 in /usr/local/lib/python3.11/dist-packages (from notebook>=4.4.1->widgetsnbextension~=3.6.0->ipywidgets<9,>=7.6.0->ipympl) (1.8.3)\n",
            "Requirement already satisfied: terminado>=0.8.3 in /usr/local/lib/python3.11/dist-packages (from notebook>=4.4.1->widgetsnbextension~=3.6.0->ipywidgets<9,>=7.6.0->ipympl) (0.18.1)\n",
            "Requirement already satisfied: prometheus-client in /usr/local/lib/python3.11/dist-packages (from notebook>=4.4.1->widgetsnbextension~=3.6.0->ipywidgets<9,>=7.6.0->ipympl) (0.21.1)\n",
            "Requirement already satisfied: nbclassic>=0.4.7 in /usr/local/lib/python3.11/dist-packages (from notebook>=4.4.1->widgetsnbextension~=3.6.0->ipywidgets<9,>=7.6.0->ipympl) (1.1.0)\n",
            "Requirement already satisfied: platformdirs>=2.5 in /usr/local/lib/python3.11/dist-packages (from jupyter-core>=4.6.1->notebook>=4.4.1->widgetsnbextension~=3.6.0->ipywidgets<9,>=7.6.0->ipympl) (4.3.6)\n",
            "Requirement already satisfied: notebook-shim>=0.2.3 in /usr/local/lib/python3.11/dist-packages (from nbclassic>=0.4.7->notebook>=4.4.1->widgetsnbextension~=3.6.0->ipywidgets<9,>=7.6.0->ipympl) (0.2.4)\n",
            "Requirement already satisfied: beautifulsoup4 in /usr/local/lib/python3.11/dist-packages (from nbconvert>=5->notebook>=4.4.1->widgetsnbextension~=3.6.0->ipywidgets<9,>=7.6.0->ipympl) (4.12.3)\n",
            "Requirement already satisfied: bleach!=5.0.0 in /usr/local/lib/python3.11/dist-packages (from bleach[css]!=5.0.0->nbconvert>=5->notebook>=4.4.1->widgetsnbextension~=3.6.0->ipywidgets<9,>=7.6.0->ipympl) (6.2.0)\n",
            "Requirement already satisfied: defusedxml in /usr/local/lib/python3.11/dist-packages (from nbconvert>=5->notebook>=4.4.1->widgetsnbextension~=3.6.0->ipywidgets<9,>=7.6.0->ipympl) (0.7.1)\n",
            "Requirement already satisfied: jupyterlab-pygments in /usr/local/lib/python3.11/dist-packages (from nbconvert>=5->notebook>=4.4.1->widgetsnbextension~=3.6.0->ipywidgets<9,>=7.6.0->ipympl) (0.3.0)\n",
            "Requirement already satisfied: markupsafe>=2.0 in /usr/local/lib/python3.11/dist-packages (from nbconvert>=5->notebook>=4.4.1->widgetsnbextension~=3.6.0->ipywidgets<9,>=7.6.0->ipympl) (3.0.2)\n",
            "Requirement already satisfied: mistune<4,>=2.0.3 in /usr/local/lib/python3.11/dist-packages (from nbconvert>=5->notebook>=4.4.1->widgetsnbextension~=3.6.0->ipywidgets<9,>=7.6.0->ipympl) (3.1.0)\n",
            "Requirement already satisfied: nbclient>=0.5.0 in /usr/local/lib/python3.11/dist-packages (from nbconvert>=5->notebook>=4.4.1->widgetsnbextension~=3.6.0->ipywidgets<9,>=7.6.0->ipympl) (0.10.2)\n",
            "Requirement already satisfied: pandocfilters>=1.4.1 in /usr/local/lib/python3.11/dist-packages (from nbconvert>=5->notebook>=4.4.1->widgetsnbextension~=3.6.0->ipywidgets<9,>=7.6.0->ipympl) (1.5.1)\n",
            "Requirement already satisfied: fastjsonschema>=2.15 in /usr/local/lib/python3.11/dist-packages (from nbformat->notebook>=4.4.1->widgetsnbextension~=3.6.0->ipywidgets<9,>=7.6.0->ipympl) (2.21.1)\n",
            "Requirement already satisfied: jsonschema>=2.6 in /usr/local/lib/python3.11/dist-packages (from nbformat->notebook>=4.4.1->widgetsnbextension~=3.6.0->ipywidgets<9,>=7.6.0->ipympl) (4.23.0)\n",
            "Requirement already satisfied: argon2-cffi-bindings in /usr/local/lib/python3.11/dist-packages (from argon2-cffi->notebook>=4.4.1->widgetsnbextension~=3.6.0->ipywidgets<9,>=7.6.0->ipympl) (21.2.0)\n",
            "Requirement already satisfied: webencodings in /usr/local/lib/python3.11/dist-packages (from bleach!=5.0.0->bleach[css]!=5.0.0->nbconvert>=5->notebook>=4.4.1->widgetsnbextension~=3.6.0->ipywidgets<9,>=7.6.0->ipympl) (0.5.1)\n",
            "Requirement already satisfied: tinycss2<1.5,>=1.1.0 in /usr/local/lib/python3.11/dist-packages (from bleach[css]!=5.0.0->nbconvert>=5->notebook>=4.4.1->widgetsnbextension~=3.6.0->ipywidgets<9,>=7.6.0->ipympl) (1.4.0)\n",
            "Requirement already satisfied: attrs>=22.2.0 in /usr/local/lib/python3.11/dist-packages (from jsonschema>=2.6->nbformat->notebook>=4.4.1->widgetsnbextension~=3.6.0->ipywidgets<9,>=7.6.0->ipympl) (24.3.0)\n",
            "Requirement already satisfied: jsonschema-specifications>=2023.03.6 in /usr/local/lib/python3.11/dist-packages (from jsonschema>=2.6->nbformat->notebook>=4.4.1->widgetsnbextension~=3.6.0->ipywidgets<9,>=7.6.0->ipympl) (2024.10.1)\n",
            "Requirement already satisfied: referencing>=0.28.4 in /usr/local/lib/python3.11/dist-packages (from jsonschema>=2.6->nbformat->notebook>=4.4.1->widgetsnbextension~=3.6.0->ipywidgets<9,>=7.6.0->ipympl) (0.35.1)\n",
            "Requirement already satisfied: rpds-py>=0.7.1 in /usr/local/lib/python3.11/dist-packages (from jsonschema>=2.6->nbformat->notebook>=4.4.1->widgetsnbextension~=3.6.0->ipywidgets<9,>=7.6.0->ipympl) (0.22.3)\n",
            "Requirement already satisfied: jupyter-server<3,>=1.8 in /usr/local/lib/python3.11/dist-packages (from notebook-shim>=0.2.3->nbclassic>=0.4.7->notebook>=4.4.1->widgetsnbextension~=3.6.0->ipywidgets<9,>=7.6.0->ipympl) (1.24.0)\n",
            "Requirement already satisfied: cffi>=1.0.1 in /usr/local/lib/python3.11/dist-packages (from argon2-cffi-bindings->argon2-cffi->notebook>=4.4.1->widgetsnbextension~=3.6.0->ipywidgets<9,>=7.6.0->ipympl) (1.17.1)\n",
            "Requirement already satisfied: soupsieve>1.2 in /usr/local/lib/python3.11/dist-packages (from beautifulsoup4->nbconvert>=5->notebook>=4.4.1->widgetsnbextension~=3.6.0->ipywidgets<9,>=7.6.0->ipympl) (2.6)\n",
            "Requirement already satisfied: pycparser in /usr/local/lib/python3.11/dist-packages (from cffi>=1.0.1->argon2-cffi-bindings->argon2-cffi->notebook>=4.4.1->widgetsnbextension~=3.6.0->ipywidgets<9,>=7.6.0->ipympl) (2.22)\n",
            "Requirement already satisfied: anyio<4,>=3.1.0 in /usr/local/lib/python3.11/dist-packages (from jupyter-server<3,>=1.8->notebook-shim>=0.2.3->nbclassic>=0.4.7->notebook>=4.4.1->widgetsnbextension~=3.6.0->ipywidgets<9,>=7.6.0->ipympl) (3.7.1)\n",
            "Requirement already satisfied: websocket-client in /usr/local/lib/python3.11/dist-packages (from jupyter-server<3,>=1.8->notebook-shim>=0.2.3->nbclassic>=0.4.7->notebook>=4.4.1->widgetsnbextension~=3.6.0->ipywidgets<9,>=7.6.0->ipympl) (1.8.0)\n",
            "Requirement already satisfied: idna>=2.8 in /usr/local/lib/python3.11/dist-packages (from anyio<4,>=3.1.0->jupyter-server<3,>=1.8->notebook-shim>=0.2.3->nbclassic>=0.4.7->notebook>=4.4.1->widgetsnbextension~=3.6.0->ipywidgets<9,>=7.6.0->ipympl) (3.10)\n",
            "Requirement already satisfied: sniffio>=1.1 in /usr/local/lib/python3.11/dist-packages (from anyio<4,>=3.1.0->jupyter-server<3,>=1.8->notebook-shim>=0.2.3->nbclassic>=0.4.7->notebook>=4.4.1->widgetsnbextension~=3.6.0->ipywidgets<9,>=7.6.0->ipympl) (1.3.1)\n",
            "Downloading ipympl-0.9.6-py3-none-any.whl (515 kB)\n",
            "\u001b[2K   \u001b[90m━━━━━━━━━━━━━━━━━━━━━━━━━━━━━━━━━━━━━━━━\u001b[0m \u001b[32m515.7/515.7 kB\u001b[0m \u001b[31m9.8 MB/s\u001b[0m eta \u001b[36m0:00:00\u001b[0m\n",
            "\u001b[?25hDownloading jedi-0.19.2-py2.py3-none-any.whl (1.6 MB)\n",
            "\u001b[2K   \u001b[90m━━━━━━━━━━━━━━━━━━━━━━━━━━━━━━━━━━━━━━━━\u001b[0m \u001b[32m1.6/1.6 MB\u001b[0m \u001b[31m39.1 MB/s\u001b[0m eta \u001b[36m0:00:00\u001b[0m\n",
            "\u001b[?25hInstalling collected packages: jedi, ipympl\n",
            "Successfully installed ipympl-0.9.6 jedi-0.19.2\n"
          ]
        }
      ]
    },
    {
      "cell_type": "code",
      "execution_count": 17,
      "metadata": {
        "id": "eQ6prhNiCI6y"
      },
      "outputs": [],
      "source": [
        "import numpy as np\n",
        "\n",
        "import matplotlib.pyplot as plt\n",
        "# from plt_one_addpt_onclick import plt_one_addpt_onclick\n",
        "# from lab_utils_common import draw_vthresh\n",
        "# plt.style.use('./deeplearning.mplstyle')"
      ],
      "id": "eQ6prhNiCI6y"
    },
    {
      "cell_type": "code",
      "source": [
        "%matplotlib inline"
      ],
      "metadata": {
        "id": "h3QF7QM3ErdM"
      },
      "id": "h3QF7QM3ErdM",
      "execution_count": 19,
      "outputs": []
    },
    {
      "cell_type": "markdown",
      "metadata": {
        "id": "ro0x4ghICI6z"
      },
      "source": [
        "## Sigmoid or Logistic Function\n",
        "<img align=\"left\" src=\"https://github.com/stevechengnyc/ML-AndrewNg/blob/main/C1-Supervised%20ML_Regression%20and%20Classification/Week%203/images/C1_W3_LogisticRegression_left.png?raw=1\"     style=\" width:300px; padding: 10px; \" >As discussed in the lecture videos, for a classification task, we can start by using our linear regression model, $f_{\\mathbf{w},b}(\\mathbf{x}^{(i)}) = \\mathbf{w} \\cdot  \\mathbf{x}^{(i)} + b$, to predict $y$ given $x$.\n",
        "- However, we would like the predictions of our classification model to be between 0 and 1 since our output variable $y$ is either 0 or 1.\n",
        "- This can be accomplished by using a \"sigmoid function\" which maps all input values to values between 0 and 1.\n",
        "\n",
        "\n",
        "Let's implement the sigmoid function and see this for ourselves.\n",
        "\n",
        "## Formula for Sigmoid function\n",
        "\n",
        "The formula for a sigmoid function is as follows -  \n",
        "\n",
        "$g(z) = \\frac{1}{1+e^{-z}}\\tag{1}$\n",
        "\n",
        "In the case of logistic regression, z (the input to the sigmoid function), is the output of a linear regression model.\n",
        "- In the case of a single example, $z$ is scalar.\n",
        "- in the case of multiple examples, $z$ may be a vector consisting of $m$ values, one for each example.\n",
        "- The implementation of the sigmoid function should cover both of these potential input formats.\n",
        "Let's implement this in Python."
      ],
      "id": "ro0x4ghICI6z"
    },
    {
      "cell_type": "markdown",
      "metadata": {
        "id": "M9ye7nOVCI60"
      },
      "source": [
        "NumPy has a function called [`exp()`](https://numpy.org/doc/stable/reference/generated/numpy.exp.html), which offers a convenient way to calculate the exponential ( $e^{z}$) of all elements in the input array (`z`).\n",
        "\n",
        "It also works with a single number as an input, as shown below."
      ],
      "id": "M9ye7nOVCI60"
    },
    {
      "cell_type": "code",
      "source": [
        "input_array = np.array([1,2,3])\n",
        "exp_array = np.exp(input_array)\n",
        "exp_array\n",
        ""
      ],
      "metadata": {
        "id": "xb1N_clTKOnl",
        "outputId": "11b198f8-6cd3-4319-c211-4254245dbbfd",
        "colab": {
          "base_uri": "https://localhost:8080/"
        }
      },
      "id": "xb1N_clTKOnl",
      "execution_count": 21,
      "outputs": [
        {
          "output_type": "execute_result",
          "data": {
            "text/plain": [
              "array([ 2.72,  7.39, 20.09])"
            ]
          },
          "metadata": {},
          "execution_count": 21
        }
      ]
    },
    {
      "cell_type": "code",
      "source": [
        "y = np.arange(0,10)\n",
        "y"
      ],
      "metadata": {
        "id": "QmkYeECyQqn-",
        "outputId": "25b6db7d-36d1-42b5-a479-d55bc3a0761c",
        "colab": {
          "base_uri": "https://localhost:8080/"
        }
      },
      "id": "QmkYeECyQqn-",
      "execution_count": 38,
      "outputs": [
        {
          "output_type": "execute_result",
          "data": {
            "text/plain": [
              "array([0, 1, 2, 3, 4, 5, 6, 7, 8, 9])"
            ]
          },
          "metadata": {},
          "execution_count": 38
        }
      ]
    },
    {
      "cell_type": "code",
      "source": [
        "s = np.log(np.arange(10,20))\n",
        "s"
      ],
      "metadata": {
        "id": "4mBoHHuBQ0Ni",
        "outputId": "8a4fa806-3217-48ae-bd9f-fea5746a18b7",
        "colab": {
          "base_uri": "https://localhost:8080/"
        }
      },
      "id": "4mBoHHuBQ0Ni",
      "execution_count": 42,
      "outputs": [
        {
          "output_type": "execute_result",
          "data": {
            "text/plain": [
              "array([2.303, 2.398, 2.485, 2.565, 2.639, 2.708, 2.773, 2.833, 2.89 ,\n",
              "       2.944])"
            ]
          },
          "metadata": {},
          "execution_count": 42
        }
      ]
    },
    {
      "cell_type": "code",
      "source": [
        "np.dot(y, s)"
      ],
      "metadata": {
        "id": "qlgSy8Y8Q9C3",
        "outputId": "edf1db2e-a474-42b6-fd6e-c180f7f48552",
        "colab": {
          "base_uri": "https://localhost:8080/"
        }
      },
      "id": "qlgSy8Y8Q9C3",
      "execution_count": 43,
      "outputs": [
        {
          "output_type": "execute_result",
          "data": {
            "text/plain": [
              "125.24998758623053"
            ]
          },
          "metadata": {},
          "execution_count": 43
        }
      ]
    },
    {
      "cell_type": "code",
      "source": [
        "y.T.shape"
      ],
      "metadata": {
        "id": "5342uJrTRH8S",
        "outputId": "1a955c7d-cb01-42a5-8b78-29b491f5994c",
        "colab": {
          "base_uri": "https://localhost:8080/"
        }
      },
      "id": "5342uJrTRH8S",
      "execution_count": 47,
      "outputs": [
        {
          "output_type": "execute_result",
          "data": {
            "text/plain": [
              "(10,)"
            ]
          },
          "metadata": {},
          "execution_count": 47
        }
      ]
    },
    {
      "cell_type": "code",
      "source": [
        "y.T"
      ],
      "metadata": {
        "id": "S7Z7ZImsRWgK",
        "outputId": "28ac9e58-7c18-4370-f6de-18976d86e76b",
        "colab": {
          "base_uri": "https://localhost:8080/"
        }
      },
      "id": "S7Z7ZImsRWgK",
      "execution_count": 48,
      "outputs": [
        {
          "output_type": "execute_result",
          "data": {
            "text/plain": [
              "array([0, 1, 2, 3, 4, 5, 6, 7, 8, 9])"
            ]
          },
          "metadata": {},
          "execution_count": 48
        }
      ]
    },
    {
      "cell_type": "code",
      "source": [
        "s.shape"
      ],
      "metadata": {
        "id": "7u2QJrubRKON",
        "outputId": "22291af7-2e97-4049-a458-9cf8c7075828",
        "colab": {
          "base_uri": "https://localhost:8080/"
        }
      },
      "id": "7u2QJrubRKON",
      "execution_count": 45,
      "outputs": [
        {
          "output_type": "execute_result",
          "data": {
            "text/plain": [
              "(10,)"
            ]
          },
          "metadata": {},
          "execution_count": 45
        }
      ]
    },
    {
      "cell_type": "code",
      "source": [
        "np.dot(y.T, s)"
      ],
      "metadata": {
        "id": "K-IsSPU7RPuW",
        "outputId": "295f9368-d170-4dd5-b9c8-e04d98ccffc1",
        "colab": {
          "base_uri": "https://localhost:8080/"
        }
      },
      "id": "K-IsSPU7RPuW",
      "execution_count": 46,
      "outputs": [
        {
          "output_type": "execute_result",
          "data": {
            "text/plain": [
              "125.24998758623053"
            ]
          },
          "metadata": {},
          "execution_count": 46
        }
      ]
    },
    {
      "cell_type": "code",
      "execution_count": 22,
      "metadata": {
        "id": "_CoiAssMCI60",
        "outputId": "d85e6f46-70dc-4321-bf84-729c857e5742",
        "colab": {
          "base_uri": "https://localhost:8080/"
        }
      },
      "outputs": [
        {
          "output_type": "stream",
          "name": "stdout",
          "text": [
            "Input to exp: [1 2 3]\n",
            "Output of exp: [ 2.72  7.39 20.09]\n",
            "Input to exp: 1\n",
            "Output of exp: 2.718281828459045\n"
          ]
        }
      ],
      "source": [
        "# Input is an array.\n",
        "input_array = np.array([1,2,3])\n",
        "exp_array = np.exp(input_array)\n",
        "\n",
        "print(\"Input to exp:\", input_array)\n",
        "print(\"Output of exp:\", exp_array)\n",
        "\n",
        "# Input is a single number\n",
        "input_val = 1\n",
        "exp_val = np.exp(input_val)\n",
        "\n",
        "print(\"Input to exp:\", input_val)\n",
        "print(\"Output of exp:\", exp_val)"
      ],
      "id": "_CoiAssMCI60"
    },
    {
      "cell_type": "code",
      "source": [],
      "metadata": {
        "id": "DTdE3SkiQybM"
      },
      "id": "DTdE3SkiQybM",
      "execution_count": null,
      "outputs": []
    },
    {
      "cell_type": "code",
      "source": [],
      "metadata": {
        "id": "l1KMVKumKN9a"
      },
      "id": "l1KMVKumKN9a",
      "execution_count": null,
      "outputs": []
    },
    {
      "cell_type": "markdown",
      "metadata": {
        "id": "7itq2I2rCI61"
      },
      "source": [
        "The `sigmoid` function is implemented in python as shown in the cell below."
      ],
      "id": "7itq2I2rCI61"
    },
    {
      "cell_type": "code",
      "execution_count": 25,
      "metadata": {
        "id": "qasAlek3CI61"
      },
      "outputs": [],
      "source": [
        "def sigmoid(z):\n",
        "    \"\"\"\n",
        "    Compute the sigmoid of z\n",
        "\n",
        "    Args:\n",
        "        z (ndarray): A scalar, numpy array of any size.\n",
        "\n",
        "    Returns:\n",
        "        g (ndarray): sigmoid(z), with the same shape as z\n",
        "\n",
        "    \"\"\"\n",
        "\n",
        "    g = 1/(1+np.exp(-z))\n",
        "\n",
        "    return g"
      ],
      "id": "qasAlek3CI61"
    },
    {
      "cell_type": "code",
      "source": [
        "input_array"
      ],
      "metadata": {
        "id": "1D_V4HHyKg38",
        "outputId": "4e6ab101-f63f-459b-f922-498086d9ca96",
        "colab": {
          "base_uri": "https://localhost:8080/"
        }
      },
      "id": "1D_V4HHyKg38",
      "execution_count": 24,
      "outputs": [
        {
          "output_type": "execute_result",
          "data": {
            "text/plain": [
              "array([1, 2, 3])"
            ]
          },
          "metadata": {},
          "execution_count": 24
        }
      ]
    },
    {
      "cell_type": "code",
      "source": [
        "t = sigmoid(input_array)\n",
        "t"
      ],
      "metadata": {
        "id": "GaUHYHD3Ki5j",
        "outputId": "e760eb37-bd35-4b93-a862-505b3136ddd9",
        "colab": {
          "base_uri": "https://localhost:8080/"
        }
      },
      "id": "GaUHYHD3Ki5j",
      "execution_count": 26,
      "outputs": [
        {
          "output_type": "execute_result",
          "data": {
            "text/plain": [
              "array([0.73, 0.88, 0.95])"
            ]
          },
          "metadata": {},
          "execution_count": 26
        }
      ]
    },
    {
      "cell_type": "code",
      "source": [
        "1/(1+np.exp(-1*(input_array)))"
      ],
      "metadata": {
        "id": "C6hSPDhUKo_s",
        "outputId": "b8d3ccf8-5321-4cc4-b673-7c42a0582c12",
        "colab": {
          "base_uri": "https://localhost:8080/"
        }
      },
      "id": "C6hSPDhUKo_s",
      "execution_count": 27,
      "outputs": [
        {
          "output_type": "execute_result",
          "data": {
            "text/plain": [
              "array([0.73, 0.88, 0.95])"
            ]
          },
          "metadata": {},
          "execution_count": 27
        }
      ]
    },
    {
      "cell_type": "markdown",
      "metadata": {
        "id": "hAgDX9_aCI61"
      },
      "source": [
        "Let's see what the output of this function is for various value of `z`"
      ],
      "id": "hAgDX9_aCI61"
    },
    {
      "cell_type": "code",
      "execution_count": 29,
      "metadata": {
        "id": "2wanNhGMCI62",
        "outputId": "346bb015-6063-4709-cf2f-ee241d3a6d85",
        "colab": {
          "base_uri": "https://localhost:8080/"
        }
      },
      "outputs": [
        {
          "output_type": "stream",
          "name": "stdout",
          "text": [
            "Input (z), Output (sigmoid(z))\n",
            "[[-1.000e+01  4.540e-05]\n",
            " [-9.000e+00  1.234e-04]\n",
            " [-8.000e+00  3.354e-04]\n",
            " [-7.000e+00  9.111e-04]\n",
            " [-6.000e+00  2.473e-03]\n",
            " [-5.000e+00  6.693e-03]\n",
            " [-4.000e+00  1.799e-02]\n",
            " [-3.000e+00  4.743e-02]\n",
            " [-2.000e+00  1.192e-01]\n",
            " [-1.000e+00  2.689e-01]\n",
            " [ 0.000e+00  5.000e-01]\n",
            " [ 1.000e+00  7.311e-01]\n",
            " [ 2.000e+00  8.808e-01]\n",
            " [ 3.000e+00  9.526e-01]\n",
            " [ 4.000e+00  9.820e-01]\n",
            " [ 5.000e+00  9.933e-01]\n",
            " [ 6.000e+00  9.975e-01]\n",
            " [ 7.000e+00  9.991e-01]\n",
            " [ 8.000e+00  9.997e-01]\n",
            " [ 9.000e+00  9.999e-01]\n",
            " [ 1.000e+01  1.000e+00]]\n"
          ]
        }
      ],
      "source": [
        "# Generate an array of evenly spaced values between -10 and 10\n",
        "z_tmp = np.arange(-10,11)\n",
        "\n",
        "# Use the function implemented above to get the sigmoid values\n",
        "y = sigmoid(z_tmp)\n",
        "\n",
        "# Code for pretty printing the two arrays next to each other\n",
        "np.set_printoptions(precision=3)\n",
        "print(\"Input (z), Output (sigmoid(z))\")\n",
        "print(np.c_[z_tmp, y])"
      ],
      "id": "2wanNhGMCI62"
    },
    {
      "cell_type": "markdown",
      "metadata": {
        "id": "44NY3qi9CI63"
      },
      "source": [
        "The values in the left column are `z`, and the values in the right column are `sigmoid(z)`. As you can see, the input values to the sigmoid range from -10 to 10, and the output values range from 0 to 1.\n",
        "\n",
        "Now, let's try to plot this function using the `matplotlib` library."
      ],
      "id": "44NY3qi9CI63"
    },
    {
      "cell_type": "code",
      "execution_count": 30,
      "metadata": {
        "id": "Ku8KcojWCI63",
        "outputId": "fe58a9a7-9498-48bf-b442-2660eeb82b27",
        "colab": {
          "base_uri": "https://localhost:8080/",
          "height": 333
        }
      },
      "outputs": [
        {
          "output_type": "display_data",
          "data": {
            "text/plain": [
              "<Figure size 500x300 with 1 Axes>"
            ],
            "image/png": "[encoded data removed]"
          },
          "metadata": {}
        }
      ],
      "source": [
        "# Plot z vs sigmoid(z)\n",
        "fig,ax = plt.subplots(1,1,figsize=(5,3))\n",
        "ax.plot(z_tmp, y, c=\"b\")\n",
        "\n",
        "ax.set_title(\"Sigmoid function\")\n",
        "ax.set_ylabel('sigmoid(z)')\n",
        "ax.set_xlabel('z')\n",
        "draw_vthresh(ax,0)"
      ],
      "id": "Ku8KcojWCI63"
    },
    {
      "cell_type": "markdown",
      "metadata": {
        "id": "83LNP3fRCI63"
      },
      "source": [
        "As you can see, the sigmoid function approaches  `0` as `z` goes to large negative values and approaches `1` as `z` goes to large positive values.\n"
      ],
      "id": "83LNP3fRCI63"
    },
    {
      "cell_type": "markdown",
      "metadata": {
        "id": "HN1vX6NTCI64"
      },
      "source": [
        "## Logistic Regression\n",
        "<img align=\"left\" src=\"https://github.com/stevechengnyc/ML-AndrewNg/blob/main/C1-Supervised%20ML_Regression%20and%20Classification/Week%203/images/C1_W3_LogisticRegression_right.png?raw=1\"     style=\" width:300px; padding: 10px; \" > A logistic regression model applies the sigmoid to the familiar linear regression model as shown below:\n",
        "\n",
        "$$ f_{\\mathbf{w},b}(\\mathbf{x}^{(i)}) = g(\\mathbf{w} \\cdot \\mathbf{x}^{(i)} + b ) \\tag{2} $$\n",
        "\n",
        "  where\n",
        "\n",
        "  $g(z) = \\frac{1}{1+e^{-z}}\\tag{3}$\n"
      ],
      "id": "HN1vX6NTCI64"
    },
    {
      "cell_type": "markdown",
      "metadata": {
        "id": "yfYHb4DUCI64"
      },
      "source": [
        "  \n",
        "Let's apply logistic regression to the categorical data example of tumor classification.  \n",
        "First, load the examples and initial values for the parameters.\n",
        "  \n"
      ],
      "id": "yfYHb4DUCI64"
    },
    {
      "cell_type": "code",
      "execution_count": 31,
      "metadata": {
        "tags": [],
        "id": "NPqRc11ZCI64"
      },
      "outputs": [],
      "source": [
        "x_train = np.array([0., 1, 2, 3, 4, 5])\n",
        "y_train = np.array([0,  0, 0, 1, 1, 1])\n",
        "\n",
        "w_in = np.zeros((1))\n",
        "b_in = 0"
      ],
      "id": "NPqRc11ZCI64"
    },
    {
      "cell_type": "code",
      "source": [
        "x_train.shape, y_train.shape, w_in.shape"
      ],
      "metadata": {
        "id": "cR7VHbnpOBaG",
        "outputId": "2afc329a-800a-4359-cd7f-9ea12b4625c3",
        "colab": {
          "base_uri": "https://localhost:8080/"
        }
      },
      "id": "cR7VHbnpOBaG",
      "execution_count": 32,
      "outputs": [
        {
          "output_type": "execute_result",
          "data": {
            "text/plain": [
              "((6,), (6,), (1,))"
            ]
          },
          "metadata": {},
          "execution_count": 32
        }
      ]
    },
    {
      "cell_type": "code",
      "source": [
        "np.zeros(1).shape"
      ],
      "metadata": {
        "id": "q6nLChUjOKjD",
        "outputId": "7ad41509-e7fb-4782-9137-e7c206baf2d0",
        "colab": {
          "base_uri": "https://localhost:8080/"
        }
      },
      "id": "q6nLChUjOKjD",
      "execution_count": 33,
      "outputs": [
        {
          "output_type": "execute_result",
          "data": {
            "text/plain": [
              "(1,)"
            ]
          },
          "metadata": {},
          "execution_count": 33
        }
      ]
    },
    {
      "cell_type": "code",
      "source": [
        "#np.zeros((1))\n",
        "np.zeros(1)"
      ],
      "metadata": {
        "id": "afofy4t7OQXk",
        "outputId": "388f7330-b367-42c6-873c-41a4573eb053",
        "colab": {
          "base_uri": "https://localhost:8080/"
        }
      },
      "id": "afofy4t7OQXk",
      "execution_count": 36,
      "outputs": [
        {
          "output_type": "execute_result",
          "data": {
            "text/plain": [
              "array([0.])"
            ]
          },
          "metadata": {},
          "execution_count": 36
        }
      ]
    },
    {
      "cell_type": "markdown",
      "metadata": {
        "id": "KiNuU4CUCI64"
      },
      "source": [
        "Try the following steps:\n",
        "- Click on 'Run Logistic Regression' to find the best logistic regression model for the given training data\n",
        "    - Note the resulting model fits the data quite well.\n",
        "    - Note, the orange line is '$z$' or $\\mathbf{w} \\cdot \\mathbf{x}^{(i)} + b$  above. It does not match the line in a linear regression model.\n",
        "Further improve these results by applying a *threshold*.\n",
        "- Tick the box on the 'Toggle 0.5 threshold' to show the predictions if a threshold is applied.\n",
        "    - These predictions look good. The predictions match the data\n",
        "    - Now, add further data points in the large tumor size range (near 10), and re-run logistic regression.\n",
        "    - unlike the linear regression model, this model continues to make correct predictions"
      ],
      "id": "KiNuU4CUCI64"
    },
    {
      "cell_type": "code",
      "execution_count": 37,
      "metadata": {
        "id": "BnfHmQd2CI64",
        "outputId": "9bdc992e-d88d-42f9-e115-ae36bb9d601a",
        "colab": {
          "base_uri": "https://localhost:8080/",
          "height": 682
        }
      },
      "outputs": [
        {
          "output_type": "error",
          "ename": "AttributeError",
          "evalue": "'CheckButtons' object has no attribute 'rectangles'",
          "traceback": [
            "\u001b[0;31m---------------------------------------------------------------------------\u001b[0m",
            "\u001b[0;31mAttributeError\u001b[0m                            Traceback (most recent call last)",
            "\u001b[0;32m<ipython-input-37-6c954e035753>\u001b[0m in \u001b[0;36m<cell line: 0>\u001b[0;34m()\u001b[0m\n\u001b[1;32m      1\u001b[0m \u001b[0mplt\u001b[0m\u001b[0;34m.\u001b[0m\u001b[0mclose\u001b[0m\u001b[0;34m(\u001b[0m\u001b[0;34m'all'\u001b[0m\u001b[0;34m)\u001b[0m\u001b[0;34m\u001b[0m\u001b[0;34m\u001b[0m\u001b[0m\n\u001b[0;32m----> 2\u001b[0;31m \u001b[0maddpt\u001b[0m \u001b[0;34m=\u001b[0m \u001b[0mplt_one_addpt_onclick\u001b[0m\u001b[0;34m(\u001b[0m \u001b[0mx_train\u001b[0m\u001b[0;34m,\u001b[0m\u001b[0my_train\u001b[0m\u001b[0;34m,\u001b[0m \u001b[0mw_in\u001b[0m\u001b[0;34m,\u001b[0m \u001b[0mb_in\u001b[0m\u001b[0;34m,\u001b[0m \u001b[0mlogistic\u001b[0m\u001b[0;34m=\u001b[0m\u001b[0;32mTrue\u001b[0m\u001b[0;34m)\u001b[0m\u001b[0;34m\u001b[0m\u001b[0;34m\u001b[0m\u001b[0m\n\u001b[0m",
            "\u001b[0;32m<ipython-input-10-253e31e180a1>\u001b[0m in \u001b[0;36m__init__\u001b[0;34m(self, x, y, w, b, logistic)\u001b[0m\n\u001b[1;32m     64\u001b[0m         \u001b[0mself\u001b[0m\u001b[0;34m.\u001b[0m\u001b[0mbthresh\u001b[0m \u001b[0;34m=\u001b[0m \u001b[0mCheckButtons\u001b[0m\u001b[0;34m(\u001b[0m\u001b[0maxthresh\u001b[0m\u001b[0;34m,\u001b[0m \u001b[0;34m(\u001b[0m\u001b[0;34m'Toggle 0.5 threshold (after regression)'\u001b[0m\u001b[0;34m,\u001b[0m\u001b[0;34m)\u001b[0m\u001b[0;34m)\u001b[0m\u001b[0;34m\u001b[0m\u001b[0;34m\u001b[0m\u001b[0m\n\u001b[1;32m     65\u001b[0m         \u001b[0mself\u001b[0m\u001b[0;34m.\u001b[0m\u001b[0mbthresh\u001b[0m\u001b[0;34m.\u001b[0m\u001b[0mon_clicked\u001b[0m\u001b[0;34m(\u001b[0m\u001b[0mself\u001b[0m\u001b[0;34m.\u001b[0m\u001b[0mthresh\u001b[0m\u001b[0;34m)\u001b[0m\u001b[0;34m\u001b[0m\u001b[0;34m\u001b[0m\u001b[0m\n\u001b[0;32m---> 66\u001b[0;31m         \u001b[0mself\u001b[0m\u001b[0;34m.\u001b[0m\u001b[0mresize_sq\u001b[0m\u001b[0;34m(\u001b[0m\u001b[0mself\u001b[0m\u001b[0;34m.\u001b[0m\u001b[0mbthresh\u001b[0m\u001b[0;34m)\u001b[0m\u001b[0;34m\u001b[0m\u001b[0;34m\u001b[0m\u001b[0m\n\u001b[0m\u001b[1;32m     67\u001b[0m \u001b[0;34m\u001b[0m\u001b[0m\n\u001b[1;32m     68\u001b[0m  \u001b[0;31m#   @output.capture()  # debug\u001b[0m\u001b[0;34m\u001b[0m\u001b[0;34m\u001b[0m\u001b[0m\n",
            "\u001b[0;32m<ipython-input-10-253e31e180a1>\u001b[0m in \u001b[0;36mresize_sq\u001b[0;34m(self, bcid)\u001b[0m\n\u001b[1;32m    177\u001b[0m         \u001b[0;31m#print(f\"points : {bcid.rectangles[0].get_bbox().get_points()}\")  #[[xmin,ymin],[xmax,ymax]]\u001b[0m\u001b[0;34m\u001b[0m\u001b[0;34m\u001b[0m\u001b[0m\n\u001b[1;32m    178\u001b[0m \u001b[0;34m\u001b[0m\u001b[0m\n\u001b[0;32m--> 179\u001b[0;31m         \u001b[0mh\u001b[0m \u001b[0;34m=\u001b[0m \u001b[0mbcid\u001b[0m\u001b[0;34m.\u001b[0m\u001b[0mrectangles\u001b[0m\u001b[0;34m[\u001b[0m\u001b[0;36m0\u001b[0m\u001b[0;34m]\u001b[0m\u001b[0;34m.\u001b[0m\u001b[0mget_height\u001b[0m\u001b[0;34m(\u001b[0m\u001b[0;34m)\u001b[0m\u001b[0;34m\u001b[0m\u001b[0;34m\u001b[0m\u001b[0m\n\u001b[0m\u001b[1;32m    180\u001b[0m         \u001b[0mbcid\u001b[0m\u001b[0;34m.\u001b[0m\u001b[0mrectangles\u001b[0m\u001b[0;34m[\u001b[0m\u001b[0;36m0\u001b[0m\u001b[0;34m]\u001b[0m\u001b[0;34m.\u001b[0m\u001b[0mset_height\u001b[0m\u001b[0;34m(\u001b[0m\u001b[0;36m3\u001b[0m\u001b[0;34m*\u001b[0m\u001b[0mh\u001b[0m\u001b[0;34m)\u001b[0m\u001b[0;34m\u001b[0m\u001b[0;34m\u001b[0m\u001b[0m\n\u001b[1;32m    181\u001b[0m \u001b[0;34m\u001b[0m\u001b[0m\n",
            "\u001b[0;31mAttributeError\u001b[0m: 'CheckButtons' object has no attribute 'rectangles'"
          ]
        },
        {
          "output_type": "display_data",
          "data": {
            "text/plain": [
              "<Figure size 800x400 with 3 Axes>"
            ],
            "image/png": "[encoded data removed]"
          },
          "metadata": {}
        }
      ],
      "source": [
        "plt.close('all')\n",
        "addpt = plt_one_addpt_onclick( x_train,y_train, w_in, b_in, logistic=True)"
      ],
      "id": "BnfHmQd2CI64"
    },
    {
      "cell_type": "markdown",
      "metadata": {
        "id": "foMlOcrlCI65"
      },
      "source": [
        "## Congratulations!\n",
        "You have explored the use of the sigmoid function in logistic regression."
      ],
      "id": "foMlOcrlCI65"
    },
    {
      "cell_type": "code",
      "execution_count": null,
      "metadata": {
        "id": "WH_sc_M2CI65"
      },
      "outputs": [],
      "source": [],
      "id": "WH_sc_M2CI65"
    }
  ],
  "metadata": {
    "kernelspec": {
      "display_name": "Python 3",
      "language": "python",
      "name": "python3"
    },
    "language_info": {
      "codemirror_mode": {
        "name": "ipython",
        "version": 3
      },
      "file_extension": ".py",
      "mimetype": "text/x-python",
      "name": "python",
      "nbconvert_exporter": "python",
      "pygments_lexer": "ipython3",
      "version": "3.7.6"
    },
    "colab": {
      "provenance": []
    }
  },
  "nbformat": 4,
  "nbformat_minor": 5
}